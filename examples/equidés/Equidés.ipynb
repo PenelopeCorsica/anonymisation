{
 "cells": [
  {
   "cell_type": "markdown",
   "metadata": {},
   "source": [
    "The file can be downloaded here:\n",
    "https://www.data.gouv.fr/fr/datasets/fichier-des-equides/\n",
    "or directly :\n",
    "https://www.data.gouv.fr/s/resources/fichier-des-equides/20141201-185229/Equides.csv\n",
    "\n",
    "Le fichier de 200 Mo contient autours de 3 millions de lignes"
   ]
  },
  {
   "cell_type": "code",
   "execution_count": 73,
   "metadata": {
    "collapsed": false
   },
   "outputs": [],
   "source": [
    "import csv\n",
    "import numpy as np\n",
    "import pandas as pd\n",
    "import matplotlib\n",
    "import matplotlib.pyplot as plt\n",
    "\n",
    "from anonymizer.anonymity import (get_k, get_anonymities,\n",
    "                                  less_anonym_groups,\n",
    "                                  _remove_unknown)\n",
    "from anonymizer.diversity import (get_l,\n",
    "                                  get_diversities,\n",
    "                                  diversity_distribution,\n",
    "                                  less_diverse_groups\n",
    "                                )\n",
    "from anonymizer.transformations import (first_letters,\n",
    "                                       last_letters,\n",
    "                                       local_aggregation)\n",
    "from anonymizer.transformations import str_drop\n",
    "from anonymizer.anonymDF import AnonymDataFrame\n",
    "\n",
    "from anonymizer.config_anonymizer import config\n",
    "import os\n",
    "import io"
   ]
  },
  {
   "cell_type": "code",
   "execution_count": 74,
   "metadata": {
    "collapsed": false
   },
   "outputs": [],
   "source": [
    "path_data = config['PATH']['EQUIDES']\n",
    "nbre_lignes = 50000\n",
    "equides = pd.read_csv(path_data, sep = \";\", nrows = nbre_lignes, encoding = \"ISO-8859-1\", header=None, low_memory = False)"
   ]
  },
  {
   "cell_type": "code",
   "execution_count": 75,
   "metadata": {
    "collapsed": false
   },
   "outputs": [],
   "source": [
    "nom_de_colonnes = ['Race',\n",
    "                   'Sexe',\n",
    "                   'Robe',\n",
    "                   'Date de naissance',\n",
    "                   'Pays de naissance',\n",
    "                   'Nom',\n",
    "                   'Destiné à la consommation humaine',\n",
    "                   'Date de mort']\n",
    "equides.columns = nom_de_colonnes\n",
    "\n",
    "\n",
    "# On supprime la date de mort puisque cela nous fournirait un indice sur l'âge du cheval,\n",
    "# qu'il faudrait veiller à anonymiser.\n",
    "\n",
    "variables_supprimees = ['Date de mort', 'Destiné à la consommation humaine']\n",
    "equides = equides.drop(variables_supprimees,1)\n",
    "\n",
    "# La variable \"date de naissance\" doit être recodée. On choisit de ne garder que l'année.\n",
    "equides['Date de naissance'] = last_letters(equides['Date de naissance'],6)\n",
    "\n",
    "# On remplace les modalités vides ou non renseignées par des \"non renseigné\"\n",
    "equides = equides.fillna('non renseigné')\n",
    "equides = equides.applymap(lambda x: x.strip())\n",
    "equides.replace('', 'non renseigné', inplace=True)"
   ]
  },
  {
   "cell_type": "code",
   "execution_count": 76,
   "metadata": {
    "collapsed": false
   },
   "outputs": [
    {
     "name": "stdout",
     "output_type": "stream",
     "text": [
      "inconnu or. inconnue\n",
      "inconnu race inconnue\n",
      "anglo-arabe *anglo-arabe*\n",
      "anglo-arabe anglo-arabe\n",
      "welsh welsh cob\n",
      "welsh welsh pony\n",
      "welsh welsh type cob\n",
      "welsh welsh mountain\n",
      "welsh welsh\n",
      "aa compl. *aa compl.*\n"
     ]
    },
    {
     "data": {
      "text/plain": [
       "78"
      ]
     },
     "execution_count": 76,
     "metadata": {},
     "output_type": "execute_result"
    }
   ],
   "source": [
    "# On convertit tous les noms de races en minuscules afin de mieux pouvoir uniformiser\n",
    "# et on normalise afin de n'obtenir plus qu'une modalité inconnu, anglo-arabe, weslh ou aa compl.\n",
    "\n",
    "equides['Race'] = equides['Race'].str.lower()\n",
    "liste_races = equides['Race'].unique().tolist()\n",
    "\n",
    "for word in ['inconnu', 'anglo-arabe', 'welsh', 'aa compl.']:\n",
    "    for race in liste_races :\n",
    "        if word in race:\n",
    "            print(word, race)\n",
    "            equides['Race'] = equides['Race'].replace(race, word)\n",
    "\n",
    "liste_races = equides['Race'].unique().tolist()\n",
    "equides.replace('inconnu', 'non renseigné', inplace=True)\n",
    "len(liste_races)"
   ]
  },
  {
   "cell_type": "code",
   "execution_count": 87,
   "metadata": {
    "collapsed": true
   },
   "outputs": [],
   "source": [
    "# ## II. Anonymisation \n",
    "\n",
    "# On définit les variables à anonymiser\n",
    "\n",
    "ordre_aggregation = ['Race',\n",
    "                     'Sexe',\n",
    "                     'Robe',\n",
    "                     'Pays de naissance',\n",
    "                     'Date de naissance']"
   ]
  },
  {
   "cell_type": "code",
   "execution_count": 88,
   "metadata": {
    "collapsed": false
   },
   "outputs": [],
   "source": [
    "Equides = AnonymDataFrame(equides,  ordre_aggregation, unknown='non renseigné')"
   ]
  },
  {
   "cell_type": "code",
   "execution_count": 80,
   "metadata": {
    "collapsed": false
   },
   "outputs": [],
   "source": [
    "def aggregation_serie(x):\n",
    "        return(local_aggregation(x, 5, 'regroup_with_smallest', 'non renseigné'))\n",
    "method_anonymisation = [(name, aggregation_serie) for name in ordre_aggregation[:-1]]\n",
    "\n",
    "def aggregation_year(x):\n",
    "        return(local_aggregation(x, 5, 'with_closest', 'non renseigné'))\n",
    "method_anonymisation += [('Date de naissance', aggregation_year)]"
   ]
  },
  {
   "cell_type": "code",
   "execution_count": 82,
   "metadata": {
    "collapsed": false
   },
   "outputs": [
    {
     "data": {
      "text/plain": [
       "<anonymizer.anonymDF.AnonymDataFrame at 0x7f4e98758400>"
      ]
     },
     "execution_count": 82,
     "metadata": {},
     "output_type": "execute_result"
    }
   ],
   "source": [
    "Equides.local_transform(method_anonymisation, 5)"
   ]
  },
  {
   "cell_type": "code",
   "execution_count": 83,
   "metadata": {
    "collapsed": false
   },
   "outputs": [],
   "source": [
    "Equides.df = Equides.anonymized_df"
   ]
  },
  {
   "cell_type": "code",
   "execution_count": 84,
   "metadata": {
    "collapsed": false
   },
   "outputs": [
    {
     "data": {
      "text/plain": [
       "5"
      ]
     },
     "execution_count": 84,
     "metadata": {},
     "output_type": "execute_result"
    }
   ],
   "source": [
    "Equides.get_k()"
   ]
  },
  {
   "cell_type": "code",
   "execution_count": 85,
   "metadata": {
    "collapsed": false
   },
   "outputs": [],
   "source": [
    "less = Equides.less_anonym_groups()"
   ]
  },
  {
   "cell_type": "code",
   "execution_count": 86,
   "metadata": {
    "collapsed": false
   },
   "outputs": [
    {
     "data": {
      "text/html": [
       "<div>\n",
       "<table border=\"1\" class=\"dataframe\">\n",
       "  <thead>\n",
       "    <tr style=\"text-align: right;\">\n",
       "      <th></th>\n",
       "      <th>Race</th>\n",
       "      <th>Sexe</th>\n",
       "      <th>Robe</th>\n",
       "      <th>Date de naissance</th>\n",
       "      <th>Pays de naissance</th>\n",
       "      <th>Nom</th>\n",
       "    </tr>\n",
       "  </thead>\n",
       "  <tbody>\n",
       "    <tr>\n",
       "      <th>3475</th>\n",
       "      <td>anglo-arabe</td>\n",
       "      <td>F</td>\n",
       "      <td>BAI</td>\n",
       "      <td>1985 ou 1988 ou 1989 ou 1990</td>\n",
       "      <td>ITALIE</td>\n",
       "      <td>RIGHEL</td>\n",
       "    </tr>\n",
       "    <tr>\n",
       "      <th>30049</th>\n",
       "      <td>anglo-arabe</td>\n",
       "      <td>F</td>\n",
       "      <td>BAI</td>\n",
       "      <td>1985 ou 1988 ou 1989 ou 1990</td>\n",
       "      <td>ITALIE</td>\n",
       "      <td>PALMA DE FLORINAS</td>\n",
       "    </tr>\n",
       "    <tr>\n",
       "      <th>33913</th>\n",
       "      <td>anglo-arabe</td>\n",
       "      <td>F</td>\n",
       "      <td>BAI</td>\n",
       "      <td>1985 ou 1988 ou 1989 ou 1990</td>\n",
       "      <td>ITALIE</td>\n",
       "      <td>PAMPHILA DE MORES</td>\n",
       "    </tr>\n",
       "    <tr>\n",
       "      <th>37688</th>\n",
       "      <td>anglo-arabe</td>\n",
       "      <td>F</td>\n",
       "      <td>BAI</td>\n",
       "      <td>1985 ou 1988 ou 1989 ou 1990</td>\n",
       "      <td>ITALIE</td>\n",
       "      <td>MALOA</td>\n",
       "    </tr>\n",
       "    <tr>\n",
       "      <th>38598</th>\n",
       "      <td>anglo-arabe</td>\n",
       "      <td>F</td>\n",
       "      <td>BAI</td>\n",
       "      <td>1985 ou 1988 ou 1989 ou 1990</td>\n",
       "      <td>ITALIE</td>\n",
       "      <td>QUERIDA PERRA</td>\n",
       "    </tr>\n",
       "  </tbody>\n",
       "</table>\n",
       "</div>"
      ],
      "text/plain": [
       "              Race Sexe Robe             Date de naissance Pays de naissance  \\\n",
       "3475   anglo-arabe    F  BAI  1985 ou 1988 ou 1989 ou 1990            ITALIE   \n",
       "30049  anglo-arabe    F  BAI  1985 ou 1988 ou 1989 ou 1990            ITALIE   \n",
       "33913  anglo-arabe    F  BAI  1985 ou 1988 ou 1989 ou 1990            ITALIE   \n",
       "37688  anglo-arabe    F  BAI  1985 ou 1988 ou 1989 ou 1990            ITALIE   \n",
       "38598  anglo-arabe    F  BAI  1985 ou 1988 ou 1989 ou 1990            ITALIE   \n",
       "\n",
       "                     Nom  \n",
       "3475              RIGHEL  \n",
       "30049  PALMA DE FLORINAS  \n",
       "33913  PAMPHILA DE MORES  \n",
       "37688              MALOA  \n",
       "38598      QUERIDA PERRA  "
      ]
     },
     "execution_count": 86,
     "metadata": {},
     "output_type": "execute_result"
    }
   ],
   "source": [
    "less[0]"
   ]
  }
 ],
 "metadata": {
  "anaconda-cloud": {},
  "kernelspec": {
   "display_name": "Python [Root]",
   "language": "python",
   "name": "Python [Root]"
  },
  "language_info": {
   "codemirror_mode": {
    "name": "ipython",
    "version": 3
   },
   "file_extension": ".py",
   "mimetype": "text/x-python",
   "name": "python",
   "nbconvert_exporter": "python",
   "pygments_lexer": "ipython3",
   "version": "3.5.2"
  }
 },
 "nbformat": 4,
 "nbformat_minor": 0
}
