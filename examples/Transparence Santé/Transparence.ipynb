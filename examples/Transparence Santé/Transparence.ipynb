{
 "cells": [
  {
   "cell_type": "markdown",
   "metadata": {},
   "source": [
    "# Application de la k-anonymisation sur Transparence Santé"
   ]
  },
  {
   "cell_type": "markdown",
   "metadata": {},
   "source": [
    "## 1) Téléchargement des données"
   ]
  },
  {
   "cell_type": "markdown",
   "metadata": {},
   "source": [
    "Le fichier peut être téléchargé à cette adresse : https://www.data.gouv.fr/fr/datasets/transparence-sante-1/  \n",
    "ou directement sur : https://www.transparence.sante.gouv.fr/exports-etalab/exports-etalab.zip  \n",
    "\n",
    "Ce jeu de données contient environ 2 millions de lignes. Le fichier exports-etalab.zip contient :\n",
    "* Le jeu de données  \n",
    "* La présentation du jeu de données  \n",
    "* La licence d'utilisation\n",
    "     \n",
    "  \n",
    " \n",
    "Le fichier INSEE pour l'enrichissement des données peut être téléchargé ici : http://www.insee.fr/fr/themes/detail.asp?reg_id=99&ref_id=equip-serv-medical-para\n",
    "ou directement sur : http://www.insee.fr/fr/ppp/bases-de-donnees/donnees-detaillees/equip-serv-medical-para/equip-serv-medical-para-com-2015.zip"
   ]
  },
  {
   "cell_type": "code",
   "execution_count": 1,
   "metadata": {
    "collapsed": true
   },
   "outputs": [],
   "source": [
    "%matplotlib inline"
   ]
  },
  {
   "cell_type": "code",
   "execution_count": 2,
   "metadata": {
    "collapsed": false
   },
   "outputs": [],
   "source": [
    "import csv\n",
    "import numpy as np\n",
    "import pandas as pd\n",
    "import matplotlib\n",
    "import matplotlib.pyplot as plt\n",
    "\n",
    "from anonymizer.config_anonymizer import config\n",
    "import os\n",
    "import io\n",
    "\n",
    "path_data = config['PATH']['TRANSPARENCE']\n",
    "\n",
    "nbre_lignes = 50000\n",
    "avantages = pd.read_csv(path_data, sep = \";\", nrows = nbre_lignes, low_memory = False)"
   ]
  },
  {
   "cell_type": "markdown",
   "metadata": {},
   "source": [
    "On ne charge que les 50 000 premières lignes par souci de bonnes performances de calcul. C'est selon la configuration de votre machine."
   ]
  },
  {
   "cell_type": "markdown",
   "metadata": {},
   "source": [
    "## 2) Importation des modules"
   ]
  },
  {
   "cell_type": "code",
   "execution_count": 3,
   "metadata": {
    "collapsed": false
   },
   "outputs": [],
   "source": [
    "#!/usr/bin/env python\n",
    "\"\"\"\n",
    "A partir des fonctions du dépôt anonymizer, ce fichier va notamment vous permettre de :\n",
    "\n",
    "1. **Importer** les données de la base Transparence Santé.\n",
    "2. **Nettoyer** les variables et sélectionner celles à anonymiser\n",
    "3. **Anonymiser** les données selon un procédé de K-anonymisation\n",
    "4. **Compléter** avec les données INSEE afin d'en mesurer la plus-value.\n",
    "\n",
    "\"\"\"\n",
    "\n",
    "from import_insee import (expand_insee,\n",
    "                                     nbre_modif)\n",
    "\n",
    "from anonymizer.anonymity import (get_k, get_anonymities,\n",
    "                                  less_anonym_groups,\n",
    "                                 all_local_aggregation)\n",
    "from anonymizer.diversity import (get_l,\n",
    "                                  get_diversities,\n",
    "                                  diversity_distribution,\n",
    "                                  less_diverse_groups\n",
    "                                )\n",
    "from anonymizer.transformations import (first_letters,\n",
    "                                       last_letters,\n",
    "                                       local_aggregation)\n",
    "from anonymizer.transformations import str_drop\n",
    "from anonymizer.anonymDF import AnonymDataFrame\n"
   ]
  },
  {
   "cell_type": "markdown",
   "metadata": {},
   "source": [
    "## 3) Nettoyage de la base"
   ]
  },
  {
   "cell_type": "markdown",
   "metadata": {},
   "source": [
    "Pour commencer, on va séparer les personnes morales (entreprises, hôpitaux, etc.) des personnes physiques. L'anonymisation ne concerne en effet que ces dernières."
   ]
  },
  {
   "cell_type": "code",
   "execution_count": 4,
   "metadata": {
    "collapsed": true
   },
   "outputs": [],
   "source": [
    "# === Séparation personnes physiques/morales ===  \n",
    "# On ne traite pas le cas des personnes morales\n",
    "\n",
    "\n",
    "code_personne_physique = ['[PRS]','[ETU]']\n",
    "personnes_physiques = avantages[avantages['benef_categorie_code'].isin(code_personne_physique)]\n",
    "personnes_morales = avantages[~avantages['benef_categorie_code'].isin(code_personne_physique)]\n",
    "avantages = personnes_physiques"
   ]
  },
  {
   "cell_type": "markdown",
   "metadata": {},
   "source": [
    "Nous pouvons maintenant procéder à une première étape de la réflexion, qui consiste à reconnaître les variables identifiantes, à les supprimer puis à traiter les quasi-identifiants.  \n",
    "* Les prénom, nom, adresse et ville du bénéficiaire sont des informations directement idenfitiantes, c'est-à-dire qui peuvent directement identifier un individu. \n",
    "* On considère toutes les autres variables comme des quasi-identifiants. "
   ]
  },
  {
   "cell_type": "markdown",
   "metadata": {},
   "source": [
    "\n",
    "<table>\n",
    "    <tr>\n",
    "        <td>**Comment reconnaître les quasi-identifiants ? **Un quasi-identifiant représente une information qui, une fois combinée avec d’autres quasi-identifiants, permet d’identifier une personne. Un exemple classique est celui du triplet {date de naissance, genre, code postal}, qui a permis d’identifier 80% des Américains par croisement avec les listes électorales. Dans ce cas, la date de naissance, le genre et le code postal sont des quasi-identifiants ; leur combinaison est appelée clef d’identification.  \n",
    "        **Dans notre cas, nous considérons l'ensemble des variables restantes comme des quasi-identifiants** : si je retrouve le ticket de caisse d'un ami, le montant de l'avantage me permet de l'identifier dans la base ; si je sais que mon médecin a déjeuné avec un représentant de Sanofi, la nature de l'avantage me permet potentiellement de le retrouver dans la base, etc.</td>\n",
    "    </tr>\n",
    "</table>\n",
    "\n",
    "\n"
   ]
  },
  {
   "cell_type": "markdown",
   "metadata": {},
   "source": [
    "Avant de lancer l'anonymisation sur les quasi-identifiants ainsi repérés, il faut d'abord leur appliquer un traitement spécifique. Par exemple :  \n",
    "* **Le code postal** étant directement pour un professionnel de santé exerçant dans une petite ville, nous transformons le code postal en code départemental - on ne garde que les deux premiers chiffres du code postal.\n",
    "* **Le montant précis de l'avantage** en son équivalent décile (ce qui nous permet d'uniformiser les modalités de cette variable).\n",
    "* **La date du jour** de l'avantage est un élément trop précis dans le cadre d'une anonymisation : si mon médecin reçoit un avantage le 26 février 2015, il est probable qu'il soit le seul à en avoir reçu un ce jour-là. On décide donc de ne garder que l'année (le semestre est aussi indiqué par une autre variable)."
   ]
  },
  {
   "cell_type": "code",
   "execution_count": 5,
   "metadata": {
    "collapsed": true
   },
   "outputs": [],
   "source": [
    "# === transformatiosn préalables ===\n",
    "\n",
    "# * On transforme les CP en indicateurs régionaux\n",
    "avantages['benef_dept'] = first_letters(avantages['benef_codepostal'],2)\n",
    "\n",
    "# * On supprime les CP peu orthodoxes\n",
    "erreur_CP = ['0', '', 'IN']\n",
    "avantages.loc[avantages['benef_dept'].isin(erreur_CP), 'benef_dept'] = np.nan\n",
    "erreur_pays = ['[RE]','[GP]']\n",
    "avantages.loc[avantages['benef_pays_code'].isin(erreur_pays), 'benef_pays_code'] = '[FR]'\n",
    "\n",
    "# * On homogénéise les valeurs manquantes ou tierces par la mention \"non-renseigné\"\n",
    "avantages = avantages.fillna('non renseigné')\n",
    "to_replace = ['[AUTRE]', '']\n",
    "avantages.replace(to_replace, 'non renseigné', inplace=True)\n",
    "\n",
    "# * On transforme la valeur des conventions/avantages en leur équivalent décile (uniformisation)\n",
    "\n",
    "avantages['avant_montant_ttc'] = avantages['avant_montant_ttc'].astype(float)\n",
    "avantages['montant_décile'] = pd.qcut(avantages.avant_montant_ttc,10)\n",
    "\n",
    "# * On transforme la date (signature des avantages) en mois/année (le jour est trop identifiant)\n",
    "\n",
    "avantages['date'] = last_letters(avantages['avant_date_signature'],6)\n",
    "\n",
    "avantages['avant_nature'] = avantages['avant_nature'].str.lower()\n",
    "\n",
    "\n",
    "# * On supprime d'abord les variables identifiantes afin de ne garder que les variables quasi-identifiantes\n",
    "\n",
    "variables_supprimees = [\n",
    "                        'avant_convention_lie', \n",
    "                        'identifiant_type', \n",
    "                        'benef_qualification', \n",
    "                        'benef_speicalite_libelle', \n",
    "                        'ligne_rectification',\n",
    "                        'denomination_sociale',\n",
    "                        'benef_titre_libelle',\n",
    "                        'benef_prenom',\n",
    "                        'benef_nom', \n",
    "                        'benef_adresse1', \n",
    "                        'benef_adresse2',\n",
    "                        'benef_adresse3',\n",
    "                        'benef_adresse4',\n",
    "                        'benef_identifiant_valeur',\n",
    "                        'benef_ville',\n",
    "                        'benef_etablissement_ville',\n",
    "                        'categorie',\n",
    "                        'benef_qualite_code',\n",
    "                        'benef_codepostal',\n",
    "                        'benef_etablissement_codepostal',\n",
    "                        'ligne_identifiant',\n",
    "                        'pays',\n",
    "                        'benef_denomination_sociale',\n",
    "                        'benef_objet_social',\n",
    "                        'avant_date_signature',\n",
    "                        'avant_montant_ttc',\n",
    "                        'benef_etablissement'\n",
    "                       ]\n",
    "\n",
    "avantages = avantages.drop(variables_supprimees,1)\n",
    "\n",
    "avantages['montant_décile'] = avantages['montant_décile'].astype(str)\n",
    "avantages['date'] = avantages['date'].astype(str)"
   ]
  },
  {
   "cell_type": "markdown",
   "metadata": {},
   "source": [
    "## 4) Algorithme"
   ]
  },
  {
   "cell_type": "markdown",
   "metadata": {},
   "source": [
    "* **On définit d'abord les variables à traiter**. Dans le cas classique, il serait bienvenu de prendre l'ensemble des variables présentes dans la base. Ici, étant donné que l'on va compléter par la suite cette base par des informations INSEE, on ne prend en compte que les variables qui sont communes à la base initiale et à la base INSEE. On les **stocke dans la liste \"ordre_aggregation\"**. Attention, l'ordre des variables est important. "
   ]
  },
  {
   "cell_type": "markdown",
   "metadata": {},
   "source": [
    "<table>\n",
    "    <tr>\n",
    "        <td>**Pourquoi ordonner les variables ?** Les modifications effectuées sur la base par l’algorithme sont dépendantes de l’ordre de traitement des variables. Il faut donc s’interroger en amont sur la façon dont on va les renseigner dans l’algorithme : les dernières variables sont les plus susceptibles d'être modifiées. Par exemple, si on a [département, spécialité, montant], on va d'abord regrouper les individus par départements, puis par spécialité, puis par montant. Il y a donc plus de chances d'avoir des groupes supérieurs à k individus si l'on regroupe les lignes par départements plutôt que si l'on regroupe celles d'un même département au sein des lignes ayant la même spécialité et le même montant.</td>\n",
    "    </tr>\n",
    "</table>"
   ]
  },
  {
   "cell_type": "code",
   "execution_count": 6,
   "metadata": {
    "collapsed": true
   },
   "outputs": [],
   "source": [
    "# On définit ici les variables traitées pour l'anonymisation\n",
    "var = avantages.columns.tolist()\n",
    "var.remove('ligne_type')\n",
    "var.remove('avant_nature')"
   ]
  },
  {
   "cell_type": "code",
   "execution_count": 7,
   "metadata": {
    "collapsed": false,
    "scrolled": true
   },
   "outputs": [],
   "source": [
    "ordre_aggregation = [\n",
    "    'benef_dept',\n",
    "    'benef_categorie_code',\n",
    "    'qualite',\n",
    "    'benef_pays_code',\n",
    "    'benef_titre_code',\n",
    "    'benef_identifiant_type_code'\n",
    "    ]"
   ]
  },
  {
   "cell_type": "markdown",
   "metadata": {},
   "source": [
    "On peut maintenant lancer l'algorithme, en définissant la classe et le k (k=5).  \n",
    "\n",
    "* On va anonymiser l'ensemble des variables selon la méthode **\"regroup_with_smallest\"**, *i.e.* regrouper la modalité en minorité avec une modalité dont l'effectif est le plus petit, mais supérieur à k. Exemple : regrouper le département 01 (3 lignes) avec le département 02 (6 médecins), plutôt qu'avec 03 (12 médecins), car 12 > 6.  \n",
    "* A l'exception de la date, que l'on va anonymiser suivant la méthode **\"with_closest\"** : regrouper une année avec l'année la plus proche (2012 avec 2011 ou 2010, plutôt qu'avec 1983)."
   ]
  },
  {
   "cell_type": "code",
   "execution_count": 8,
   "metadata": {
    "collapsed": false
   },
   "outputs": [],
   "source": [
    "Avantages = AnonymDataFrame(avantages.copy(),  ordre_aggregation, unknown='non renseigné')\n",
    "k = 5\n",
    "\n",
    "def aggregation_serie(x):\n",
    "    return(local_aggregation(x, k, 'regroup_with_smallest', 'non renseigné'))\n",
    "\n",
    "def aggregation_year(x):\n",
    "    return(local_aggregation(x, k, 'with_closest', 'non renseigné'))\n",
    "    \n",
    "method_anonymisation = [(name, aggregation_serie) for name in ordre_aggregation[:-1]] + [('date', aggregation_year)]"
   ]
  },
  {
   "cell_type": "code",
   "execution_count": 9,
   "metadata": {
    "collapsed": false
   },
   "outputs": [
    {
     "data": {
      "text/plain": [
       "<anonymizer.anonymDF.AnonymDataFrame at 0x7867198>"
      ]
     },
     "execution_count": 9,
     "metadata": {},
     "output_type": "execute_result"
    }
   ],
   "source": [
    "Avantages.local_transform(method_anonymisation, k)"
   ]
  },
  {
   "cell_type": "markdown",
   "metadata": {},
   "source": [
    "On compte le nombre de modalités modifiées (et par symétrie, le nombre de modalités laissées en l'état) afin d'établir par la suite une comparaison entre les deux méthodes (méthode classique et chargement des données INSEE)."
   ]
  },
  {
   "cell_type": "code",
   "execution_count": 10,
   "metadata": {
    "collapsed": false
   },
   "outputs": [
    {
     "name": "stdout",
     "output_type": "stream",
     "text": [
      "42.0% des valeurs ont été modifiées\n"
     ]
    }
   ],
   "source": [
    "modalites_modifiees = (Avantages.anonymized_df.values != avantages.values).sum()\n",
    "modalites_intactes = (Avantages.anonymized_df.values == avantages.values).sum()\n",
    "print(\"{0:.1f}% des valeurs ont été modifiées\".format(100*modalites_modifiees/len(Avantages.df)))"
   ]
  },
  {
   "cell_type": "markdown",
   "metadata": {},
   "source": [
    "## 5) Importation des données INSEE"
   ]
  },
  {
   "cell_type": "markdown",
   "metadata": {},
   "source": [
    "La base Transparence Santé ne comporte que les personnes ayant eu un avantage ou une convention au cours des dernières années. Il peut être intéressant de considérer l'ensemble des effectifs des professions médicales, ayant eu ou non un avantage au cours des derniers mois, ce qui pourrait rendre l'anonymisation plus facile.\n",
    "\n",
    "\n",
    "L'INSEE met à libre disposition une base qui présente les effectifs départementaux des professions médicales. On peut donc s'en servir pour compléter la Base Transparence Santé. Les nouvelles lignes ajoutées comporteront seulement le code de la spécialité (ou la qualité, selon les cas) ainsi que le département.\n",
    "\n",
    "Pour commencer, on construit un dictionnaire reliant les professions INSEE aux codes de spécialité de la base Transparence Santé."
   ]
  },
  {
   "cell_type": "code",
   "execution_count": 11,
   "metadata": {
    "collapsed": false
   },
   "outputs": [],
   "source": [
    "# construction d'un dictionnaire reliant les professions (INSEE) aux professions (Transparence Santé)\n",
    "\n",
    "annuaire = {\n",
    "    'Médecin omnipraticien' : ['benef_specialite_code', '[SM54]'],\n",
    "    'Spécialiste en cardiologie' : ['benef_specialite_code', '[SM04]'],\n",
    "    'Spécialiste en dermatologie vénéréologie' : ['benef_specialite_code', '[SM15]'],\n",
    "    'Spécialiste en gynécologie médicale' : ['benef_specialite_code', '[SM19]'],\n",
    "    'Spécialiste en gynécologie obstétrique' : ['benef_specialite_code', '[SM20]'],\n",
    "    'Spécialiste en gastro-entérologie hépatologie' : ['benef_specialite_code', '[SM24]'],\n",
    "    'Spécialiste en psychiatrie' : ['benef_specialite_code', '[SM42]'],\n",
    "    'Spécialiste en ophtalmologie' : ['benef_specialite_code', '[SM38]'],\n",
    "    'Spécialiste en oto-rhino-laryngologie' : ['benef_specialite_code', '[SM39]'],\n",
    "    'Spécialiste en pédiatrie' : ['benef_specialite_code', '[SM40]'],\n",
    "    'Spécialiste en pneumologie' : ['benef_specialite_code', '[SM41]'],\n",
    "    'Spécialiste en radiodiagnostic et imagerie médicale' : ['benef_specialite_code', '[SM44]'],\n",
    "    'Spécialiste en stomatologie' : ['benef_specialite_code', '[SM50]'],\n",
    "    'Chirurgien dentiste' : ['qualite', 'Chirurgien-dentiste'],\n",
    "    'Sage-femme' : ['qualite', 'Sage-femme'],\n",
    "    'Infirmier' : ['qualite', 'Infirmier'],\n",
    "    'Masseur kinésithérapeute' : ['qualite', 'Masseur-kinésithérapeute'],\n",
    "    'Orthophoniste' : ['qualite', 'Orthophoniste'],\n",
    "    'Orthoptiste' : ['qualite', 'Orthoptiste'],\n",
    "    'Pédicure-podologue' : ['qualite', 'Pédicure-podologue'],\n",
    "    'Audio prothésiste' : ['qualite', 'Audio prothésiste'],\n",
    "    'Ergothérapeute' : ['qualite', 'Ergothérapeute'],\n",
    "    'Psychomotricien' : ['qualite', 'Psychomotricien']\n",
    "}"
   ]
  },
  {
   "cell_type": "markdown",
   "metadata": {},
   "source": [
    "On charge ensuite les données."
   ]
  },
  {
   "cell_type": "code",
   "execution_count": 12,
   "metadata": {
    "collapsed": false
   },
   "outputs": [],
   "source": [
    "path_data_insee = config['PATH']['INSEE']\n",
    "\n",
    "names = pd.read_excel(path_data_insee, encoding = \"ISO-8859-1\", skiprows=4, skip_footer=36000).columns\n",
    "insee_init = pd.read_excel(path_data_insee, encoding = \"ISO-8859-1\", skiprows=5, headers=None, names=names)\n",
    "\n",
    "insee_init['Département'] = insee_init['Département'].astype(str)\n",
    "insee_init['Région 2016'] = insee_init['Région 2016'].astype(str)\n",
    "\n",
    "insee_init['Département'] = first_letters(insee_init['Département'],2)"
   ]
  },
  {
   "cell_type": "code",
   "execution_count": 13,
   "metadata": {
    "collapsed": true
   },
   "outputs": [],
   "source": [
    "# On fusionne les départements d'Outre-mer dans une seule catégorie (trop identifiant, sinon)  \n",
    "\n",
    "outremer = ['1','2','3','4','6']\n",
    "insee_init.loc[insee_init['Région 2016'].isin(outremer), 'Région 2016'] = 1\n",
    "\n",
    "list_région = insee_init['Région 2016'].unique().tolist()\n",
    "\n",
    "insee = insee_init.copy()\n",
    "\n",
    "var_écartées = ['Région', 'Région 2016', 'CODGEO', 'Libellé commune ou ARM']\n",
    "insee = insee.drop(var_écartées,1)"
   ]
  },
  {
   "cell_type": "markdown",
   "metadata": {},
   "source": [
    "Puis on ajoute les données aux données Transparence Santé."
   ]
  },
  {
   "cell_type": "code",
   "execution_count": 14,
   "metadata": {
    "collapsed": false
   },
   "outputs": [],
   "source": [
    "g = insee.groupby('Département')\n",
    "\n",
    "expanded_insee = expand_insee(g, annuaire, avantages)\n",
    "\n",
    "expanded_insee.columns = avantages.columns.tolist()\n",
    "avantages_total = pd.concat([avantages, expanded_insee]).reset_index()\n",
    "avantages_total = avantages_total.drop('index',1)\n",
    "\n",
    "# avantages_total est donc constituée de la base Transparence Santé, complétée par les données INSEE"
   ]
  },
  {
   "cell_type": "markdown",
   "metadata": {
    "collapsed": false
   },
   "source": [
    "## 6) Algorithme (avec base enrichie)"
   ]
  },
  {
   "cell_type": "code",
   "execution_count": 15,
   "metadata": {
    "collapsed": false
   },
   "outputs": [],
   "source": [
    "# === On anonymise (données enrichies) ===\n",
    "\n",
    "# On fait bien attention à anonymiser de façon \"regroup\" les variables, \n",
    "# sauf la date pour laquelle on choisit la méthode \"year\"\n",
    "\n",
    "Avantages_avec_insee = AnonymDataFrame(avantages_total.copy(),  ordre_aggregation, unknown='non renseigné')\n",
    "\n",
    "Avantages_avec_insee.local_transform(method_anonymisation, k, force_unknown='Forcer')\n",
    "Avantages_avec_insee.df = Avantages_avec_insee.anonymized_df"
   ]
  },
  {
   "cell_type": "code",
   "execution_count": 16,
   "metadata": {
    "collapsed": false
   },
   "outputs": [
    {
     "name": "stdout",
     "output_type": "stream",
     "text": [
      "41.6% des valeurs ont été modifiées\n"
     ]
    }
   ],
   "source": [
    "table = Avantages_avec_insee.df[Avantages_avec_insee.df['ligne_type']=='[A]']\n",
    "modalites_modifiees_avec_insee = (table.values != avantages_total[avantages_total['ligne_type']=='[A]'].values).sum()\n",
    "modalites_intactes_avec_insee = (table.values == avantages_total[avantages_total['ligne_type']=='[A]'].values).sum()\n",
    "print(\"{0:.1f}% des valeurs ont été modifiées\".format(100*modalites_modifiees_avec_insee/len(table)))"
   ]
  },
  {
   "cell_type": "markdown",
   "metadata": {
    "collapsed": true
   },
   "source": [
    "## 7) Comparaison des deux méthodes"
   ]
  },
  {
   "cell_type": "markdown",
   "metadata": {},
   "source": [
    "Variable par variable, on va compter le nombre de modifications effectuées. Le graphique synthétisant ces statistiques est le suivant :"
   ]
  },
  {
   "cell_type": "code",
   "execution_count": 17,
   "metadata": {
    "collapsed": false
   },
   "outputs": [
    {
     "data": {
      "image/png": "[encoded data removed]",
      "text/plain": [
       "<matplotlib.figure.Figure at 0xb0c4438>"
      ]
     },
     "metadata": {},
     "output_type": "display_data"
    }
   ],
   "source": [
    "# === On va maintenant comparer par variables le taux de remplacement ===\n",
    "\n",
    "\n",
    "modif_par_var_1 = []\n",
    "for variable in ordre_aggregation :\n",
    "    modif_par_var_1.append((Avantages.anonymized_df[variable] != avantages[variable]).sum())\n",
    "\n",
    "modif_par_var_2 = []\n",
    "for variable in ordre_aggregation :\n",
    "    modif_par_var_2.append((Avantages_avec_insee.anonymized_df[variable][Avantages_avec_insee.df['ligne_type']=='[A]'] != avantages_total[variable][avantages_total['ligne_type']=='[A]']).sum())\n",
    "\n",
    "\n",
    "n_groups = len(ordre_aggregation) # data to plot\n",
    "\n",
    "fig, ax = plt.subplots(figsize=(13,7)) # create plot\n",
    "\n",
    "\n",
    "index = np.arange(n_groups)\n",
    "bar_width = 0.35\n",
    "opacity = 1\n",
    "\n",
    "rects1 = plt.bar(index, modif_par_var_1, bar_width,\n",
    "                 alpha=opacity,\n",
    "                 color='b',\n",
    "                 label='Séries brutes')\n",
    "\n",
    "\n",
    "rects2 = plt.bar(index + bar_width, modif_par_var_2 , bar_width,\n",
    "                 alpha=opacity,\n",
    "                 color='r',\n",
    "                 label='Séries avec données INSEE')\n",
    "\n",
    "plt.ylim(0, 6000) \n",
    "\n",
    "\n",
    "plt.xlabel('Variable anonymisée')\n",
    "plt.ylabel('Nombre de valeurs modifiées')\n",
    "plt.title('Modification de valeurs')\n",
    "plt.xticks(index + bar_width, ordre_aggregation)\n",
    "plt.legend()\n",
    "\n",
    "plt.tight_layout()\n",
    "plt.show()"
   ]
  },
  {
   "cell_type": "markdown",
   "metadata": {},
   "source": [
    "Ce graphique est plus lisible que le premier : on y voit que l'importation de l'INSEE a un impact significatif sur le nombre de modalités modifiées, bien que cet effet soit relativement faible. En particulier, cela permet de diminuer de 30% le nombre de modalités modifiées."
   ]
  }
 ],
 "metadata": {
  "anaconda-cloud": {},
  "kernelspec": {
   "display_name": "Python [Root]",
   "language": "python",
   "name": "Python [Root]"
  },
  "language_info": {
   "codemirror_mode": {
    "name": "ipython",
    "version": 3
   },
   "file_extension": ".py",
   "mimetype": "text/x-python",
   "name": "python",
   "nbconvert_exporter": "python",
   "pygments_lexer": "ipython3",
   "version": "3.5.2"
  }
 },
 "nbformat": 4,
 "nbformat_minor": 0
}
