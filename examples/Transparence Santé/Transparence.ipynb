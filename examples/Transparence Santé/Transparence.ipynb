{
 "cells": [
  {
   "cell_type": "markdown",
   "metadata": {},
   "source": [
    "# Application de la k-anonymisation sur Transparence Santé"
   ]
  },
  {
   "cell_type": "markdown",
   "metadata": {},
   "source": [
    "## 1) Téléchargement des données"
   ]
  },
  {
   "cell_type": "markdown",
   "metadata": {},
   "source": [
    "Le fichier peut être téléchargé à cette adresse : https://www.data.gouv.fr/fr/datasets/transparence-sante-1/  \n",
    "ou directement sur : https://www.transparence.sante.gouv.fr/exports-etalab/exports-etalab.zip  \n",
    "\n",
    "Ce jeu de données contient environ 2 millions de lignes. Le fichier exports-etalab.zip contient :\n",
    "* Le jeu de données  \n",
    "* La présentation du jeu de données  \n",
    "* La licence d'utilisation\n",
    "     \n",
    "  \n",
    " \n",
    "Le fichier INSEE pour l'enrichissement des données peut être téléchargé ici : http://www.insee.fr/fr/themes/detail.asp?reg_id=99&ref_id=equip-serv-medical-para\n",
    "ou directement sur : http://www.insee.fr/fr/ppp/bases-de-donnees/donnees-detaillees/equip-serv-medical-para/equip-serv-medical-para-com-2015.zip"
   ]
  },
  {
   "cell_type": "code",
   "execution_count": 1,
   "metadata": {
    "collapsed": true
   },
   "outputs": [],
   "source": [
    "%matplotlib inline"
   ]
  },
  {
   "cell_type": "code",
   "execution_count": 2,
   "metadata": {
    "collapsed": false
   },
   "outputs": [],
   "source": [
    "import csv\n",
    "import numpy as np\n",
    "import pandas as pd\n",
    "import matplotlib\n",
    "import matplotlib.pyplot as plt\n",
    "\n",
    "from anonymizer.config_anonymizer import config\n",
    "import os\n",
    "import io\n",
    "\n",
    "path_data = config['PATH']['TRANSPARENCE']\n",
    "\n",
    "nbre_lignes = 50000\n",
    "avantages = pd.read_csv(path_data, sep = \";\", nrows = nbre_lignes, low_memory = False)"
   ]
  },
  {
   "cell_type": "markdown",
   "metadata": {},
   "source": [
    "On ne charge que les 50 000 premières lignes par souci de bonnes performances de calcul. C'est selon la configuration de votre machine."
   ]
  },
  {
   "cell_type": "markdown",
   "metadata": {},
   "source": [
    "## 2) Importation des modules"
   ]
  },
  {
   "cell_type": "code",
   "execution_count": 3,
   "metadata": {
    "collapsed": false
   },
   "outputs": [],
   "source": [
    "#!/usr/bin/env python\n",
    "\"\"\"\n",
    "A partir des fonctions du dépôt anonymizer, ce fichier va notamment vous permettre de :\n",
    "\n",
    "1. **Importer** les données de la base Transparence Santé.\n",
    "2. **Nettoyer** les variables et sélectionner celles à anonymiser\n",
    "3. **Anonymiser** les données selon un procédé de K-anonymisation\n",
    "4. **Compléter** avec les données INSEE afin d'en mesurer la plus-value.\n",
    "\n",
    "\"\"\"\n",
    "\n",
    "from import_insee import (expand_insee,\n",
    "                                     nbre_modif)\n",
    "\n",
    "from anonymizer.anonymity import (get_k, get_anonymities,\n",
    "                                  less_anonym_groups,\n",
    "                                 all_local_aggregation)\n",
    "from anonymizer.diversity import (get_l,\n",
    "                                  get_diversities,\n",
    "                                  diversity_distribution,\n",
    "                                  less_diverse_groups\n",
    "                                )\n",
    "from anonymizer.transformations import (first_letters,\n",
    "                                       last_letters,\n",
    "                                       local_aggregation)\n",
    "from anonymizer.transformations import str_drop\n",
    "from anonymizer.anonymDF import AnonymDataFrame\n"
   ]
  },
  {
   "cell_type": "markdown",
   "metadata": {},
   "source": [
    "## 3) Nettoyage de la base"
   ]
  },
  {
   "cell_type": "markdown",
   "metadata": {},
   "source": [
    "Pour commencer, on va séparer les personnes morales (entreprises, hôpitaux, etc.) des personnes physiques. L'anonymisation ne concerne en effet que ces dernières."
   ]
  },
  {
   "cell_type": "code",
   "execution_count": 4,
   "metadata": {
    "collapsed": true
   },
   "outputs": [],
   "source": [
    "# === Séparation personnes physiques/morales ===  \n",
    "# On ne traite pas le cas des personnes morales\n",
    "\n",
    "\n",
    "code_personne_physique = ['[PRS]','[ETU]']\n",
    "personnes_physiques = avantages[avantages['benef_categorie_code'].isin(code_personne_physique)]\n",
    "personnes_morales = avantages[~avantages['benef_categorie_code'].isin(code_personne_physique)]\n",
    "avantages = personnes_physiques"
   ]
  },
  {
   "cell_type": "markdown",
   "metadata": {},
   "source": [
    "Nous pouvons maintenant procéder à une première étape de la réflexion, qui consiste à reconnaître les variables identifiantes, à les supprimer puis à traiter les quasi-identifiants.  \n",
    "* Les prénom, nom, adresse et ville du bénéficiaire sont des informations directement idenfitiantes, c'est-à-dire qui peuvent directement identifier un individu. \n",
    "* On considère toutes les autres variables comme des quasi-identifiants. "
   ]
  },
  {
   "cell_type": "markdown",
   "metadata": {},
   "source": [
    "\n",
    "<table>\n",
    "    <tr>\n",
    "        <td>**Comment reconnaître les quasi-identifiants ? **Un quasi-identifiant représente une information qui, une fois combinée avec d’autres quasi-identifiants, permet d’identifier une personne. Un exemple classique est celui du triplet {date de naissance, genre, code postal}, qui a permis d’identifier 80% des Américains par croisement avec les listes électorales. Dans ce cas, la date de naissance, le genre et le code postal sont des quasi-identifiants ; leur combinaison est appelée clef d’identification.  \n",
    "        **Dans notre cas, nous considérons l'ensemble des variables restantes comme des quasi-identifiants** : si je retrouve le ticket de caisse d'un ami, le montant de l'avantage me permet de l'identifier dans la base ; si je sais que mon médecin a déjeuné avec un représentant de Sanofi, la nature de l'avantage me permet potentiellement de le retrouver dans la base, etc.</td>\n",
    "    </tr>\n",
    "</table>\n",
    "\n",
    "\n"
   ]
  },
  {
   "cell_type": "markdown",
   "metadata": {},
   "source": [
    "Avant de lancer l'anonymisation sur les quasi-identifiants ainsi repérés, il faut d'abord leur appliquer un traitement spécifique. Par exemple :  \n",
    "* **Le code postal** étant directement pour un professionnel de santé exerçant dans une petite ville, nous transformons le code postal en code départemental - on ne garde que les deux premiers chiffres du code postal.\n",
    "* **Le montant précis de l'avantage** en son équivalent décile (ce qui nous permet d'uniformiser les modalités de cette variable).\n",
    "* **La date du jour** de l'avantage est un élément trop précis dans le cadre d'une anonymisation : si mon médecin reçoit un avantage le 26 février 2015, il est probable qu'il soit le seul à en avoir reçu un ce jour-là. On décide donc de ne garder que l'année (le semestre est aussi indiqué par une autre variable)."
   ]
  },
  {
   "cell_type": "code",
   "execution_count": 5,
   "metadata": {
    "collapsed": true
   },
   "outputs": [],
   "source": [
    "# === transformatiosn préalables ===\n",
    "\n",
    "# * On transforme les CP en indicateurs régionaux\n",
    "avantages['benef_dept'] = first_letters(avantages['benef_codepostal'],2)\n",
    "\n",
    "# * On supprime les CP peu orthodoxes\n",
    "erreur_CP = ['0', '', 'IN']\n",
    "avantages.loc[avantages['benef_dept'].isin(erreur_CP), 'benef_dept'] = np.nan\n",
    "erreur_pays = ['[RE]','[GP]']\n",
    "avantages.loc[avantages['benef_pays_code'].isin(erreur_pays), 'benef_pays_code'] = '[FR]'\n",
    "\n",
    "# * On homogénéise les valeurs manquantes ou tierces par la mention \"non-renseigné\"\n",
    "avantages = avantages.fillna('non renseigné')\n",
    "to_replace = ['[AUTRE]', '']\n",
    "avantages.replace(to_replace, 'non renseigné', inplace=True)\n",
    "\n",
    "# * On transforme la valeur des conventions/avantages en leur équivalent décile (uniformisation)\n",
    "\n",
    "avantages['avant_montant_ttc'] = avantages['avant_montant_ttc'].astype(float)\n",
    "avantages['montant_décile'] = pd.qcut(avantages.avant_montant_ttc,10)\n",
    "\n",
    "# * On transforme la date (signature des avantages) en mois/année (le jour est trop identifiant)\n",
    "\n",
    "avantages['date'] = last_letters(avantages['avant_date_signature'],6)\n",
    "\n",
    "avantages['avant_nature'] = avantages['avant_nature'].str.lower()\n",
    "\n",
    "\n",
    "# * On supprime d'abord les variables identifiantes afin de ne garder que les variables quasi-identifiantes\n",
    "\n",
    "variables_supprimees = ['avant_convention_lie', \n",
    "                        'identifiant_type', \n",
    "                        'benef_qualification', \n",
    "                        'benef_speicalite_libelle', \n",
    "                        'ligne_rectification',\n",
    "                        'denomination_sociale',\n",
    "                        'benef_titre_libelle',\n",
    "                        'benef_prenom',\n",
    "                        'benef_nom', \n",
    "                        'benef_adresse1', \n",
    "                        'benef_adresse2',\n",
    "                        'benef_adresse3',\n",
    "                        'benef_adresse4',\n",
    "                        'benef_identifiant_valeur',\n",
    "                        'benef_ville',\n",
    "                        'benef_etablissement_ville',\n",
    "                        'categorie',\n",
    "                        'benef_qualite_code',\n",
    "                        'benef_codepostal',\n",
    "                        'benef_etablissement_codepostal',\n",
    "                        'ligne_identifiant',\n",
    "                        'pays',\n",
    "                        'benef_denomination_sociale',\n",
    "                        'benef_objet_social',\n",
    "                        'avant_date_signature',\n",
    "                        'avant_montant_ttc',\n",
    "                        'benef_etablissement']\n",
    "\n",
    "avantages = avantages.drop(variables_supprimees,1)\n",
    "\n",
    "avantages['montant_décile'] = avantages['montant_décile'].astype(str)\n",
    "avantages['date'] = avantages['date'].astype(str)"
   ]
  },
  {
   "cell_type": "markdown",
   "metadata": {},
   "source": [
    "## 4) Agrégation locale ou globale ?"
   ]
  },
  {
   "cell_type": "markdown",
   "metadata": {},
   "source": [
    "Il existe deux types d'agrégation :\n",
    "* **agrégation locale**. Les regroupements de modalités s'effectuent seulement sur les lignes qui posent problème. Par exemple, si on veut 5-anonymiser, que l'on compte 5 médecins en Île-de-France et 2 médecins et 3 étudiants en Charente, on remplacera par \"Médecin ou étudiant\" uniquement les modalités des lignes de Charente.\n",
    "* **agrégation globale**. Les regroupements de modalités s'effectuent sur l'ensemble de la base. Dans l'exemple précédent, l'ensemble des modalités comportant \"Médecin\" ou \"Etudiant\" sont remplacées par \"Médecin ou étudiant\"."
   ]
  },
  {
   "cell_type": "markdown",
   "metadata": {},
   "source": [
    "La plupart des logiciels recensés implémentent la k-anonymisation sous forme d'agrégation globale. Cette technique, bien que présentant l'avantage d'uniformiser l'ensemble des modalités, supprime toutefois un degré de précision non négligeable. Ainsi, si un chercher souhaite travailler sur les données de la Charente, il n'y trouvera que des \"Médecins ou étudiants\". \n",
    "\n",
    "Au contraire, bien qu'augmentant le nombre de modalités, l'agrégation locale permet de maintenir une certaine précision sur les données. Toujours dans notre exemple, un chercheur trouvera dans une base de données agrégée localement la mention \"Médecin ou étudiant\" pour l'Île-de-France, mais les modalités \"Médecin\" et \"étudiant\" pour la Charente.\n",
    "\n",
    "Nous avons donc choisi d'implémenter l'agrégation locale au sein de notre algorithme de k-anonymisation, afin de conserver localement cette précision."
   ]
  },
  {
   "cell_type": "markdown",
   "metadata": {},
   "source": [
    "## 5) Algorithme"
   ]
  },
  {
   "cell_type": "markdown",
   "metadata": {},
   "source": [
    "* **On définit d'abord les variables à traiter**. Dans le cas classique, il serait bienvenu de prendre l'ensemble des variables présentes dans la base. Ici, étant donné que l'on va compléter par la suite cette base par des informations INSEE, on ne prend en compte que les variables qui sont communes à la base initiale et à la base INSEE. On les **stocke dans la liste \"ordre_aggregation\"**. Attention, l'ordre des variables est important. "
   ]
  },
  {
   "cell_type": "markdown",
   "metadata": {},
   "source": [
    "<table>\n",
    "    <tr>\n",
    "        <td>**Pourquoi ordonner les variables ?** Les modifications effectuées sur la base par l’algorithme sont dépendantes de l’ordre de traitement des variables. Il faut donc s’interroger en amont sur la façon dont on va les renseigner dans l’algorithme : les dernières variables sont les plus susceptibles d'être modifiées. Par exemple, si on a [département, spécialité, montant], on va d'abord regrouper les individus par départements, puis par spécialité, puis par montant. Il y a donc plus de chances d'avoir des groupes supérieurs à k individus si l'on regroupe les lignes par départements plutôt que si l'on regroupe celles d'un même département au sein des lignes ayant la même spécialité et le même montant.</td>\n",
    "    </tr>\n",
    "</table>"
   ]
  },
  {
   "cell_type": "code",
   "execution_count": 6,
   "metadata": {
    "collapsed": true
   },
   "outputs": [],
   "source": [
    "# On définit ici les variables traitées pour l'anonymisation\n",
    "var = avantages.columns.tolist()\n",
    "var.remove('ligne_type')\n",
    "var.remove('avant_nature')"
   ]
  },
  {
   "cell_type": "code",
   "execution_count": 7,
   "metadata": {
    "collapsed": false,
    "scrolled": true
   },
   "outputs": [],
   "source": [
    "ordre_aggregation = [\n",
    "        'benef_dept',\n",
    "        'benef_categorie_code',\n",
    "        'qualite',\n",
    "        'benef_pays_code',\n",
    "        'benef_titre_code',\n",
    "        'benef_identifiant_type_code',\n",
    "        ] \n",
   ]
  },
  {
   "cell_type": "markdown",
   "metadata": {},
   "source": [
    "On peut maintenant lancer l'algorithme, en définissant la classe et le k (k=5).  \n",
    "\n",
    "* On va anonymiser l'ensemble des variables selon la méthode **\"regroup_with_smallest\"**, *i.e.* regrouper la modalité en minorité avec une modalité dont l'effectif est le plus petit, mais supérieur à k. Exemple : regrouper le département 01 (3 lignes) avec le département 02 (6 médecins), plutôt qu'avec 03 (12 médecins), car 12 > 6.  \n",
    "* A l'exception de la date, que l'on va anonymiser suivant la méthode **\"with_closest\"** : regrouper une année avec l'année la plus proche (2012 avec 2011 ou 2010, plutôt qu'avec 1983)."
   ]
  },
  {
   "cell_type": "markdown",
   "metadata": {},
   "source": [
    "<table>\n",
    "    <tr>\n",
    "        <td>**Comment choisir le k  soit le nombre d’individus par regroupement ?** Cette question est matière à débat. Dans nos travaux, nous avons mis en place une 5-anonymisation des données, en nous appuyant sur les exemples à notre disposition. Toutefois, parallèlement à une délibération nous confortant dans ce choix (délibération n° 86-122), la CNIL a par la suite considéré qu’il n’était pas souhaitable de communiquer le nombre exact de personnes concernées lorsqu'une statistique distingue moins de 5% de la population totale prise en compte (délibération n°93-044). Le choix du k doit donc faire l’objet d’une discussion préalable à toute procédure d'anonymisation. </td>\n",
    "    </tr>\n",
    "</table>"
   ]
  },
  {
   "cell_type": "code",
   "execution_count": 31,
   "metadata": {
    "collapsed": false
   },
   "outputs": [],
   "source": [
    "Avantages = AnonymDataFrame(avantages.copy(),  ordre_aggregation, unknown='non renseigné')\n",
    "k = 5\n",
    "\n",
    "def aggregation_serie(x):\n",
    "    return(local_aggregation(x, k, 'regroup_with_smallest', 'non renseigné'))\n",
    "\n",
    "def aggregation_year(x):\n",
    "    return(local_aggregation(x, k, 'with_closest', 'non renseigné'))\n",
    "    \n",
    "method_anonymisation = [(name, aggregation_serie) for name in ordre_aggregation]"
   ]
  },
  {
   "cell_type": "code",
   "execution_count": 32,
   "metadata": {
    "collapsed": false
   },
   "outputs": [
    {
     "data": {
      "text/plain": [
       "<anonymizer.anonymDF.AnonymDataFrame at 0x7ff4ffdad8d0>"
      ]
     },
     "execution_count": 32,
     "metadata": {},
     "output_type": "execute_result"
    }
   ],
   "source": [
    "Avantages.local_transform(method_anonymisation, k)"
   ]
  },
  {
   "cell_type": "markdown",
   "metadata": {},
   "source": [
    "On compte le nombre de modalités modifiées (et par symétrie, le nombre de modalités laissées en l'état) afin d'établir par la suite une comparaison entre les deux méthodes (méthode classique et chargement des données INSEE)."
   ]
  },
  {
   "cell_type": "code",
   "execution_count": 10,
   "metadata": {
    "collapsed": false
   },
   "outputs": [
    {
     "name": "stdout",
     "output_type": "stream",
     "text": [
      "42.1% des valeurs ont été modifiées\n"
     ]
    }
   ],
   "source": [
    "modalites_modifiees = (Avantages.anonymized_df.values != avantages.values).sum()\n",
    "modalites_intactes = (Avantages.anonymized_df.values == avantages.values).sum()\n",
    "print(\"{0:.1f}% des valeurs ont été modifiées\".format(100*modalites_modifiees/len(Avantages.df)))"
   ]
  },
  {
   "cell_type": "markdown",
   "metadata": {},
   "source": [
    "## 6) Importation des données INSEE"
   ]
  },
  {
   "cell_type": "markdown",
   "metadata": {},
   "source": [
    "La base Transparence Santé ne comporte que les personnes ayant eu un avantage ou une convention au cours des dernières années. Il peut être intéressant de considérer l'ensemble des effectifs des professions médicales, ayant eu ou non un avantage au cours des derniers mois, ce qui pourrait rendre l'anonymisation plus facile.\n",
    "\n",
    "\n",
    "L'INSEE met à libre disposition une base qui présente les effectifs départementaux des professions médicales. On peut donc s'en servir pour compléter la Base Transparence Santé. Les nouvelles lignes ajoutées comporteront seulement le code de la spécialité (ou la qualité, selon les cas) ainsi que le département.\n",
    "\n",
    "Pour commencer, on construit un dictionnaire reliant les professions INSEE aux codes de spécialité de la base Transparence Santé."
   ]
  },
  {
   "cell_type": "code",
   "execution_count": 11,
   "metadata": {
    "collapsed": false
   },
   "outputs": [],
   "source": [
    "# construction d'un dictionnaire reliant les professions (INSEE) aux professions (Transparence Santé)\n",
    "\n",
    "annuaire = {\n",
    " 'Médecin omnipraticien' : ['benef_specialite_code', '[SM54]'],\n",
    " 'Spécialiste en cardiologie' : ['benef_specialite_code', '[SM04]'],\n",
    " 'Spécialiste en dermatologie vénéréologie' : ['benef_specialite_code', '[SM15]'],\n",
    " 'Spécialiste en gynécologie médicale' : ['benef_specialite_code', '[SM19]'],\n",
    " 'Spécialiste en gynécologie obstétrique' : ['benef_specialite_code', '[SM20]'],\n",
    " 'Spécialiste en gastro-entérologie hépatologie' : ['benef_specialite_code', '[SM24]'],\n",
    " 'Spécialiste en psychiatrie' : ['benef_specialite_code', '[SM42]'],\n",
    " 'Spécialiste en ophtalmologie' : ['benef_specialite_code', '[SM38]'],\n",
    " 'Spécialiste en oto-rhino-laryngologie' : ['benef_specialite_code', '[SM39]'],\n",
    " 'Spécialiste en pédiatrie' : ['benef_specialite_code', '[SM40]'],\n",
    " 'Spécialiste en pneumologie' : ['benef_specialite_code', '[SM41]'],\n",
    " 'Spécialiste en radiodiagnostic et imagerie médicale' : ['benef_specialite_code', '[SM44]'],\n",
    " 'Spécialiste en stomatologie' : ['benef_specialite_code', '[SM50]'],\n",
    " 'Chirurgien dentiste' : ['qualite', 'Chirurgien-dentiste'],\n",
    " 'Sage-femme' : ['qualite', 'Sage-femme'],\n",
    " 'Infirmier' : ['qualite', 'Infirmier'],\n",
    " 'Masseur kinésithérapeute' : ['qualite', 'Masseur-kinésithérapeute'],\n",
    " 'Orthophoniste' : ['qualite', 'Orthophoniste'],\n",
    " 'Orthoptiste' : ['qualite', 'Orthoptiste'],\n",
    " 'Pédicure-podologue' : ['qualite', 'Pédicure-podologue'],\n",
    " 'Audio prothésiste' : ['qualite', 'Audio prothésiste'],\n",
    " 'Ergothérapeute' : ['qualite', 'Ergothérapeute'],\n",
    " 'Psychomotricien' : ['qualite', 'Psychomotricien'],\n",
    " }\n"
   ]
  },
  {
   "cell_type": "markdown",
   "metadata": {},
   "source": [
    "On charge ensuite les données."
   ]
  },
  {
   "cell_type": "code",
   "execution_count": 12,
   "metadata": {
    "collapsed": false
   },
   "outputs": [],
   "source": [
    "path_data_insee = config['PATH']['INSEE']\n",
    "\n",
    "names = pd.read_excel(path_data_insee, encoding = \"ISO-8859-1\", skiprows=4, skip_footer=36000).columns\n",
    "insee_init = pd.read_excel(path_data_insee, encoding = \"ISO-8859-1\", skiprows=5, headers=None, names=names)\n",
    "\n",
    "insee_init['Département'] = insee_init['Département'].astype(str)\n",
    "insee_init['Région 2016'] = insee_init['Région 2016'].astype(str)\n",
    "\n",
    "insee_init['Département'] = first_letters(insee_init['Département'],2)"
   ]
  },
  {
   "cell_type": "code",
   "execution_count": 13,
   "metadata": {
    "collapsed": true
   },
   "outputs": [],
   "source": [
    "# On fusionne les départements d'Outre-mer dans une seule catégorie (trop identifiant, sinon)  \n",
    "\n",
    "outremer = ['1','2','3','4','6']\n",
    "insee_init.loc[insee_init['Région 2016'].isin(outremer), 'Région 2016'] = 1\n",
    "\n",
    "list_région = insee_init['Région 2016'].unique().tolist()\n",
    "\n",
    "insee = insee_init.copy()\n",
    "\n",
    "var_écartées = ['Région', 'Région 2016', 'CODGEO', 'Libellé commune ou ARM']\n",
    "insee = insee.drop(var_écartées,1)"
   ]
  },
  {
   "cell_type": "markdown",
   "metadata": {},
   "source": [
    "Puis on ajoute les données aux données Transparence Santé."
   ]
  },
  {
   "cell_type": "code",
   "execution_count": 14,
   "metadata": {
    "collapsed": false
   },
   "outputs": [],
   "source": [
    "g = insee.groupby('Département')\n",
    "\n",
    "expanded_insee = expand_insee(g, annuaire, avantages)\n",
    "\n",
    "expanded_insee.columns = avantages.columns.tolist()\n",
    "avantages_total = pd.concat([avantages, expanded_insee]).reset_index()\n",
    "avantages_total = avantages_total.drop('index',1)\n",
    "\n",
    "# avantages_total est donc constituée de la base Transparence Santé, complétée par les données INSEE"
   ]
  },
  {
   "cell_type": "markdown",
   "metadata": {
    "collapsed": false
   },
   "source": [
    "## 7) Algorithme (avec base enrichie)"
   ]
  },
  {
   "cell_type": "code",
   "execution_count": 15,
   "metadata": {
    "collapsed": false
   },
   "outputs": [],
   "source": [
    "# === On anonymise (données enrichies) ===\n",
    "\n",
    "# On fait bien attention à anonymiser de façon \"regroup\" les variables, \n",
    "# sauf la date pour laquelle on choisit la méthode \"year\"\n",
    "\n",
    "Avantages_avec_insee = AnonymDataFrame(avantages_total.copy(),  ordre_aggregation, unknown='non renseigné')\n",
    "\n",
    "Avantages_avec_insee.local_transform(method_anonymisation, k, force_unknown='Forcer')\n",
    "Avantages_avec_insee.df = Avantages_avec_insee.anonymized_df"
   ]
  },
  {
   "cell_type": "code",
   "execution_count": 16,
   "metadata": {
    "collapsed": false
   },
   "outputs": [
    {
     "name": "stdout",
     "output_type": "stream",
     "text": [
      "41.6% des valeurs ont été modifiées\n"
     ]
    }
   ],
   "source": [
    "table = Avantages_avec_insee.df[Avantages_avec_insee.df['ligne_type']=='[A]']\n",
    "modalites_modifiees_avec_insee = (table.values != avantages_total[avantages_total['ligne_type']=='[A]'].values).sum()\n",
    "modalites_intactes_avec_insee = (table.values == avantages_total[avantages_total['ligne_type']=='[A]'].values).sum()\n",
    "print(\"{0:.1f}% des valeurs ont été modifiées\".format(100*modalites_modifiees_avec_insee/len(table)))"
   ]
  },
  {
   "cell_type": "markdown",
   "metadata": {
    "collapsed": true
   },
   "source": [
    "## 8) Comparaison des deux méthodes"
   ]
  },
  {
   "cell_type": "markdown",
   "metadata": {},
   "source": [
    "Variable par variable, on va compter le nombre de modifications effectuées. Le graphique synthétisant ces statistiques est le suivant :"
   ]
  },
  {
   "cell_type": "code",
   "execution_count": 17,
   "metadata": {
    "collapsed": false
   },
   "outputs": [
    {
     "data": {
      "image/png": "iVBORw0KGgoAAAANSUhEUgAAA6EAAAHzCAYAAADRghv/AAAABHNCSVQICAgIfAhkiAAAAAlwSFlz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\nQmCC\n",
      "text/plain": [
       "<matplotlib.figure.Figure at 0x7ff4ff747e10>"
      ]
     },
     "metadata": {},
     "output_type": "display_data"
    }
   ],
   "source": [
    "# === On va maintenant comparer par variables le taux de remplacement ===\n",
    "\n",
    "\n",
    "modif_par_var_1 = []\n",
    "for variable in ordre_aggregation :\n",
    "    modif_par_var_1.append((Avantages.anonymized_df[variable] != avantages[variable]).sum())\n",
    "\n",
    "modif_par_var_2 = []\n",
    "for variable in ordre_aggregation :\n",
    "    modif_par_var_2.append((Avantages_avec_insee.anonymized_df[variable][Avantages_avec_insee.df['ligne_type']=='[A]'] != avantages_total[variable][avantages_total['ligne_type']=='[A]']).sum())\n",
    "\n",
    "\n",
    "n_groups = len(ordre_aggregation) # data to plot\n",
    "\n",
    "fig, ax = plt.subplots(figsize=(13,7)) # create plot\n",
    "\n",
    "\n",
    "index = np.arange(n_groups)\n",
    "bar_width = 0.35\n",
    "opacity = 1\n",
    "\n",
    "rects1 = plt.bar(index, modif_par_var_1, bar_width,\n",
    "                 alpha=opacity,\n",
    "                 color='b',\n",
    "                 label='Séries brutes')\n",
    "\n",
    "\n",
    "rects2 = plt.bar(index + bar_width, modif_par_var_2 , bar_width,\n",
    "                 alpha=opacity,\n",
    "                 color='r',\n",
    "                 label='Séries avec données INSEE')\n",
    "\n",
    "plt.ylim(0, 6000) \n",
    "\n",
    "\n",
    "plt.xlabel('Variable anonymisée')\n",
    "plt.ylabel('Nombre de valeurs modifiées')\n",
    "plt.title('Modification de valeurs')\n",
    "plt.xticks(index + bar_width, ordre_aggregation)\n",
    "plt.legend()\n",
    "\n",
    "plt.tight_layout()\n",
    "plt.show()"
   ]
  },
  {
   "cell_type": "markdown",
   "metadata": {},
   "source": [
    "Ce graphique est plus lisible que le premier : on y voit que l'importation de l'INSEE a un impact significatif sur le nombre de modalités modifiées, bien que cet effet soit relativement faible. En particulier, cela permet de diminuer de 30% le nombre de modalités modifiées."
   ]
  },
  {
   "cell_type": "markdown",
   "metadata": {},
   "source": [
    "## 9) Recoupement des bases de données"
   ]
  },
  {
   "cell_type": "markdown",
   "metadata": {
    "collapsed": true
   },
   "source": [
    "Partant du principe que la k-anonymisation permet d'anonymiser des données et donc de faciliter leur diffusion, une question qui se pose est celle du recoupement des données. Est-il par exemple possible de recouper les données de deux anonymisations d'une même base afin de réidentifier des informations ?"
   ]
  },
  {
   "cell_type": "markdown",
   "metadata": {},
   "source": [
    "Ici, par deux anonymisations différentes, on entend deux k-anonymisations dont l'ordre des variables traitées serait différents. Ainsi, dans la suite de notebook, on va tenter anonymiser deux fois la même base mais dans un ordre différent, et on va étudier les possibilités de réidentifications."
   ]
  },
  {
   "cell_type": "markdown",
   "metadata": {},
   "source": [
    "On anonymise donc une deuxième fois la base Transparence Santé (avantages), en prenant un ordre des variables sensiblement différent."
   ]
  },
  {
   "cell_type": "markdown",
   "metadata": {},
   "source": [
    "**Note** : nous ne sommes plus contraints de comparer nos résultats avec ceux obtenus à partir de la base enrichie par les données INSEE. Nous pouvons donc élargir le nombre de variables traitées."
   ]
  },
  {
   "cell_type": "code",
   "execution_count": 73,
   "metadata": {
    "collapsed": false
   },
   "outputs": [
    {
     "data": {
      "text/plain": [
       "<anonymizer.anonymDF.AnonymDataFrame at 0x7ff4ff7a3f98>"
      ]
     },
     "execution_count": 73,
     "metadata": {},
     "output_type": "execute_result"
    }
   ],
   "source": [
    "ordre_aggregation_1 = ['entreprise_identifiant',\n",
    " 'benef_categorie_code',\n",
    " 'qualite',\n",
    " 'benef_pays_code',\n",
    " 'benef_titre_code',\n",
    " 'benef_specialite_code',\n",
    " 'benef_identifiant_type_code',\n",
    " 'avant_nature',\n",
    " 'avant_conv_semestre',\n",
    " 'benef_dept',\n",
    " 'montant_décile',\n",
    " 'date']\n",
    "\n",
    "Avantages1 = AnonymDataFrame(avantages.copy(),  ordre_aggregation_1, unknown='non renseigné')\n",
    "k = 5\n",
    "\n",
    "def aggregation_serie(x):\n",
    "    return(local_aggregation(x, k, 'regroup_with_smallest', 'non renseigné'))\n",
    "\n",
    "def aggregation_year(x):\n",
    "    return(local_aggregation(x, k, 'with_closest', 'non renseigné'))\n",
    "    \n",
    "method_anonymisation1 = [(name, aggregation_serie) for name in ordre_aggregation_1[:-1]] + [('date', aggregation_year)]\n",
    "Avantages1.local_transform(method_anonymisation1, k)\n",
    "\n",
    "ordre_aggregation_2 = [   \n",
    "    'benef_pays_code',\n",
    "    'montant_décile',\n",
    "    'benef_dept',\n",
    "    'avant_conv_semestre',\n",
    "    'avant_nature',\n",
    "    'benef_identifiant_type_code',\n",
    "    'date',\n",
    "    'benef_specialite_code',\n",
    "    'benef_titre_code',\n",
    "    'qualite',\n",
    "    'benef_categorie_code',\n",
    "    'entreprise_identifiant']\n",
    "\n",
    "Avantages2 = AnonymDataFrame(avantages.copy(),  ordre_aggregation_2, unknown='non renseigné')  \n",
    "method_anonymisation2 = [(name, aggregation_serie) for name in ordre_aggregation_2[0:6]] + [('date', aggregation_year)] + [(name, aggregation_serie) for name in ordre_aggregation_2[7:]]\n",
    "Avantages2.local_transform(method_anonymisation2, k)"
   ]
  },
  {
   "cell_type": "code",
   "execution_count": 78,
   "metadata": {
    "collapsed": false
   },
   "outputs": [],
   "source": [
    "Av2_less_anonym_groups = Avantages2.final_less_anonym_groups()"
   ]
  },
  {
   "cell_type": "markdown",
   "metadata": {},
   "source": [
    "On va choisir un k-groupe de la version anonymisée n°2 et on va essayer d'identifier l'identifiant de l'entreprise d'au moins une de ses lignes. Pour cela, on se sert de la version anonymisée n°1."
   ]
  },
  {
   "cell_type": "code",
   "execution_count": 126,
   "metadata": {
    "collapsed": false
   },
   "outputs": [
    {
     "data": {
      "text/html": [
       "<div>\n",
       "<table border=\"1\" class=\"dataframe\">\n",
       "  <thead>\n",
       "    <tr style=\"text-align: right;\">\n",
       "      <th></th>\n",
       "      <th>entreprise_identifiant</th>\n",
       "      <th>benef_categorie_code</th>\n",
       "      <th>qualite</th>\n",
       "      <th>benef_pays_code</th>\n",
       "      <th>benef_titre_code</th>\n",
       "      <th>benef_specialite_code</th>\n",
       "      <th>benef_identifiant_type_code</th>\n",
       "      <th>ligne_type</th>\n",
       "      <th>avant_nature</th>\n",
       "      <th>avant_conv_semestre</th>\n",
       "      <th>benef_dept</th>\n",
       "      <th>montant_décile</th>\n",
       "      <th>date</th>\n",
       "    </tr>\n",
       "  </thead>\n",
       "  <tbody>\n",
       "    <tr>\n",
       "      <th>1277</th>\n",
       "      <td>CKJHICBF ou IAPMEUUR ou IFAKTBMI ou OUMNRESV</td>\n",
       "      <td>[PRS]</td>\n",
       "      <td>Médecin</td>\n",
       "      <td>[FR]</td>\n",
       "      <td>[DR]</td>\n",
       "      <td>[SM15] ou [SM42] ou [SM54]</td>\n",
       "      <td>[RPPS]</td>\n",
       "      <td>[A]</td>\n",
       "      <td>autre : [restauration] ou autre [enquete] ou a...</td>\n",
       "      <td>S2</td>\n",
       "      <td>25</td>\n",
       "      <td>(18, 22]</td>\n",
       "      <td>2013 ou 2015</td>\n",
       "    </tr>\n",
       "    <tr>\n",
       "      <th>28469</th>\n",
       "      <td>CKJHICBF ou IAPMEUUR ou IFAKTBMI ou OUMNRESV</td>\n",
       "      <td>[PRS]</td>\n",
       "      <td>Médecin</td>\n",
       "      <td>[FR]</td>\n",
       "      <td>[DR]</td>\n",
       "      <td>[SM15] ou [SM42] ou [SM54]</td>\n",
       "      <td>[RPPS]</td>\n",
       "      <td>[A]</td>\n",
       "      <td>autre : [restauration] ou autre [enquete] ou a...</td>\n",
       "      <td>S2</td>\n",
       "      <td>25</td>\n",
       "      <td>(18, 22]</td>\n",
       "      <td>2013 ou 2015</td>\n",
       "    </tr>\n",
       "    <tr>\n",
       "      <th>38693</th>\n",
       "      <td>CKJHICBF ou IAPMEUUR ou IFAKTBMI ou OUMNRESV</td>\n",
       "      <td>[PRS]</td>\n",
       "      <td>Médecin</td>\n",
       "      <td>[FR]</td>\n",
       "      <td>[DR]</td>\n",
       "      <td>[SM15] ou [SM42] ou [SM54]</td>\n",
       "      <td>[RPPS]</td>\n",
       "      <td>[A]</td>\n",
       "      <td>autre : [restauration] ou autre [enquete] ou a...</td>\n",
       "      <td>S2</td>\n",
       "      <td>25</td>\n",
       "      <td>(18, 22]</td>\n",
       "      <td>2013 ou 2015</td>\n",
       "    </tr>\n",
       "    <tr>\n",
       "      <th>46537</th>\n",
       "      <td>CKJHICBF ou IAPMEUUR ou IFAKTBMI ou OUMNRESV</td>\n",
       "      <td>[PRS]</td>\n",
       "      <td>Médecin</td>\n",
       "      <td>[FR]</td>\n",
       "      <td>[DR]</td>\n",
       "      <td>[SM15] ou [SM42] ou [SM54]</td>\n",
       "      <td>[RPPS]</td>\n",
       "      <td>[A]</td>\n",
       "      <td>autre : [restauration] ou autre [enquete] ou a...</td>\n",
       "      <td>S2</td>\n",
       "      <td>25</td>\n",
       "      <td>(18, 22]</td>\n",
       "      <td>2013 ou 2015</td>\n",
       "    </tr>\n",
       "    <tr>\n",
       "      <th>46538</th>\n",
       "      <td>CKJHICBF ou IAPMEUUR ou IFAKTBMI ou OUMNRESV</td>\n",
       "      <td>[PRS]</td>\n",
       "      <td>Médecin</td>\n",
       "      <td>[FR]</td>\n",
       "      <td>[DR]</td>\n",
       "      <td>[SM15] ou [SM42] ou [SM54]</td>\n",
       "      <td>[RPPS]</td>\n",
       "      <td>[A]</td>\n",
       "      <td>autre : [restauration] ou autre [enquete] ou a...</td>\n",
       "      <td>S2</td>\n",
       "      <td>25</td>\n",
       "      <td>(18, 22]</td>\n",
       "      <td>2013 ou 2015</td>\n",
       "    </tr>\n",
       "  </tbody>\n",
       "</table>\n",
       "</div>"
      ],
      "text/plain": [
       "                             entreprise_identifiant benef_categorie_code  \\\n",
       "1277   CKJHICBF ou IAPMEUUR ou IFAKTBMI ou OUMNRESV                [PRS]   \n",
       "28469  CKJHICBF ou IAPMEUUR ou IFAKTBMI ou OUMNRESV                [PRS]   \n",
       "38693  CKJHICBF ou IAPMEUUR ou IFAKTBMI ou OUMNRESV                [PRS]   \n",
       "46537  CKJHICBF ou IAPMEUUR ou IFAKTBMI ou OUMNRESV                [PRS]   \n",
       "46538  CKJHICBF ou IAPMEUUR ou IFAKTBMI ou OUMNRESV                [PRS]   \n",
       "\n",
       "       qualite benef_pays_code benef_titre_code       benef_specialite_code  \\\n",
       "1277   Médecin            [FR]             [DR]  [SM15] ou [SM42] ou [SM54]   \n",
       "28469  Médecin            [FR]             [DR]  [SM15] ou [SM42] ou [SM54]   \n",
       "38693  Médecin            [FR]             [DR]  [SM15] ou [SM42] ou [SM54]   \n",
       "46537  Médecin            [FR]             [DR]  [SM15] ou [SM42] ou [SM54]   \n",
       "46538  Médecin            [FR]             [DR]  [SM15] ou [SM42] ou [SM54]   \n",
       "\n",
       "      benef_identifiant_type_code ligne_type  \\\n",
       "1277                       [RPPS]        [A]   \n",
       "28469                      [RPPS]        [A]   \n",
       "38693                      [RPPS]        [A]   \n",
       "46537                      [RPPS]        [A]   \n",
       "46538                      [RPPS]        [A]   \n",
       "\n",
       "                                            avant_nature avant_conv_semestre  \\\n",
       "1277   autre : [restauration] ou autre [enquete] ou a...                  S2   \n",
       "28469  autre : [restauration] ou autre [enquete] ou a...                  S2   \n",
       "38693  autre : [restauration] ou autre [enquete] ou a...                  S2   \n",
       "46537  autre : [restauration] ou autre [enquete] ou a...                  S2   \n",
       "46538  autre : [restauration] ou autre [enquete] ou a...                  S2   \n",
       "\n",
       "      benef_dept montant_décile          date  \n",
       "1277          25       (18, 22]  2013 ou 2015  \n",
       "28469         25       (18, 22]  2013 ou 2015  \n",
       "38693         25       (18, 22]  2013 ou 2015  \n",
       "46537         25       (18, 22]  2013 ou 2015  \n",
       "46538         25       (18, 22]  2013 ou 2015  "
      ]
     },
     "execution_count": 126,
     "metadata": {},
     "output_type": "execute_result"
    }
   ],
   "source": [
    "Av2_less_anonym_groups[6]"
   ]
  },
  {
   "cell_type": "markdown",
   "metadata": {},
   "source": [
    "Parmi les lignes de la version anonymisée n°1, on ne retient que les lignes qui présentent les caractéristiques suivantes :\n",
    "* le département est 25\n",
    "* le montant est compris entre 18 et 22 €.\n",
    "* la spécialisation est SM15 (en effet, si la modalité dans un groupe prend la valeur [SM15] ou [SM42] ou [SM54], cela veut dire qu'au moins une des lignes qui en fait partie a la valeur [SM15]."
   ]
  },
  {
   "cell_type": "markdown",
   "metadata": {},
   "source": [
    "On ne trouve des lignes correspondant à ces critères que pour l'entreprise IAPMEUUR. On peut donc remplacer l'identifiant de l'entreprise par IAPMEUUR pour 1 à 2 lignes contenues dans ce groupe. On casse de ce fait le k-anonymat."
   ]
  },
  {
   "cell_type": "code",
   "execution_count": 132,
   "metadata": {
    "collapsed": false
   },
   "outputs": [
    {
     "data": {
      "text/html": [
       "<div>\n",
       "<table border=\"1\" class=\"dataframe\">\n",
       "  <thead>\n",
       "    <tr style=\"text-align: right;\">\n",
       "      <th></th>\n",
       "      <th>entreprise_identifiant</th>\n",
       "      <th>benef_categorie_code</th>\n",
       "      <th>qualite</th>\n",
       "      <th>benef_pays_code</th>\n",
       "      <th>benef_titre_code</th>\n",
       "      <th>benef_specialite_code</th>\n",
       "      <th>benef_identifiant_type_code</th>\n",
       "      <th>ligne_type</th>\n",
       "      <th>avant_nature</th>\n",
       "      <th>avant_conv_semestre</th>\n",
       "      <th>benef_dept</th>\n",
       "      <th>montant_décile</th>\n",
       "      <th>date</th>\n",
       "    </tr>\n",
       "  </thead>\n",
       "  <tbody>\n",
       "    <tr>\n",
       "      <th>661</th>\n",
       "      <td>IAPMEUUR</td>\n",
       "      <td>[PRS]</td>\n",
       "      <td>Médecin</td>\n",
       "      <td>[FR]</td>\n",
       "      <td>[DR] ou [PR]</td>\n",
       "      <td>[SM15]</td>\n",
       "      <td>[RPPS]</td>\n",
       "      <td>[A]</td>\n",
       "      <td>autre: [enquête]</td>\n",
       "      <td>S2</td>\n",
       "      <td>05 ou 06 ou 07 ou 13 ou 25 ou 29 ou 31 ou 33 o...</td>\n",
       "      <td>(18, 22]</td>\n",
       "      <td>2013</td>\n",
       "    </tr>\n",
       "    <tr>\n",
       "      <th>772</th>\n",
       "      <td>IAPMEUUR</td>\n",
       "      <td>[PRS]</td>\n",
       "      <td>Médecin</td>\n",
       "      <td>[FR]</td>\n",
       "      <td>[DR] ou [PR]</td>\n",
       "      <td>[SM15]</td>\n",
       "      <td>[RPPS]</td>\n",
       "      <td>[A]</td>\n",
       "      <td>autre: [enquête]</td>\n",
       "      <td>S2</td>\n",
       "      <td>05 ou 06 ou 07 ou 13 ou 25 ou 29 ou 31 ou 33 o...</td>\n",
       "      <td>(18, 22]</td>\n",
       "      <td>2013</td>\n",
       "    </tr>\n",
       "    <tr>\n",
       "      <th>775</th>\n",
       "      <td>IAPMEUUR</td>\n",
       "      <td>[PRS]</td>\n",
       "      <td>Médecin</td>\n",
       "      <td>[FR]</td>\n",
       "      <td>[DR] ou [PR]</td>\n",
       "      <td>[SM15]</td>\n",
       "      <td>[RPPS]</td>\n",
       "      <td>[A]</td>\n",
       "      <td>autre: [enquête]</td>\n",
       "      <td>S2</td>\n",
       "      <td>05 ou 06 ou 07 ou 13 ou 25 ou 29 ou 31 ou 33 o...</td>\n",
       "      <td>(18, 22]</td>\n",
       "      <td>2013</td>\n",
       "    </tr>\n",
       "    <tr>\n",
       "      <th>834</th>\n",
       "      <td>IAPMEUUR</td>\n",
       "      <td>[PRS]</td>\n",
       "      <td>Médecin</td>\n",
       "      <td>[FR]</td>\n",
       "      <td>[DR] ou [PR]</td>\n",
       "      <td>[SM15]</td>\n",
       "      <td>[RPPS]</td>\n",
       "      <td>[A]</td>\n",
       "      <td>autre: [enquête]</td>\n",
       "      <td>S2</td>\n",
       "      <td>05 ou 06 ou 07 ou 13 ou 25 ou 29 ou 31 ou 33 o...</td>\n",
       "      <td>(18, 22]</td>\n",
       "      <td>2013</td>\n",
       "    </tr>\n",
       "    <tr>\n",
       "      <th>856</th>\n",
       "      <td>IAPMEUUR</td>\n",
       "      <td>[PRS]</td>\n",
       "      <td>Médecin</td>\n",
       "      <td>[FR]</td>\n",
       "      <td>[DR] ou [PR]</td>\n",
       "      <td>[SM15]</td>\n",
       "      <td>[RPPS]</td>\n",
       "      <td>[A]</td>\n",
       "      <td>autre: [enquête]</td>\n",
       "      <td>S2</td>\n",
       "      <td>05 ou 06 ou 07 ou 13 ou 25 ou 29 ou 31 ou 33 o...</td>\n",
       "      <td>(18, 22]</td>\n",
       "      <td>2013</td>\n",
       "    </tr>\n",
       "    <tr>\n",
       "      <th>857</th>\n",
       "      <td>IAPMEUUR</td>\n",
       "      <td>[PRS]</td>\n",
       "      <td>Médecin</td>\n",
       "      <td>[FR]</td>\n",
       "      <td>[DR] ou [PR]</td>\n",
       "      <td>[SM15]</td>\n",
       "      <td>[RPPS]</td>\n",
       "      <td>[A]</td>\n",
       "      <td>autre: [enquête]</td>\n",
       "      <td>S2</td>\n",
       "      <td>05 ou 06 ou 07 ou 13 ou 25 ou 29 ou 31 ou 33 o...</td>\n",
       "      <td>(18, 22]</td>\n",
       "      <td>2013</td>\n",
       "    </tr>\n",
       "    <tr>\n",
       "      <th>873</th>\n",
       "      <td>IAPMEUUR</td>\n",
       "      <td>[PRS]</td>\n",
       "      <td>Médecin</td>\n",
       "      <td>[FR]</td>\n",
       "      <td>[DR] ou [PR]</td>\n",
       "      <td>[SM15]</td>\n",
       "      <td>[RPPS]</td>\n",
       "      <td>[A]</td>\n",
       "      <td>autre: [enquête]</td>\n",
       "      <td>S2</td>\n",
       "      <td>05 ou 06 ou 07 ou 13 ou 25 ou 29 ou 31 ou 33 o...</td>\n",
       "      <td>(18, 22]</td>\n",
       "      <td>2013</td>\n",
       "    </tr>\n",
       "    <tr>\n",
       "      <th>903</th>\n",
       "      <td>IAPMEUUR</td>\n",
       "      <td>[PRS]</td>\n",
       "      <td>Médecin</td>\n",
       "      <td>[FR]</td>\n",
       "      <td>[DR] ou [PR]</td>\n",
       "      <td>[SM15]</td>\n",
       "      <td>[RPPS]</td>\n",
       "      <td>[A]</td>\n",
       "      <td>autre: [enquête]</td>\n",
       "      <td>S2</td>\n",
       "      <td>05 ou 06 ou 07 ou 13 ou 25 ou 29 ou 31 ou 33 o...</td>\n",
       "      <td>(18, 22]</td>\n",
       "      <td>2013</td>\n",
       "    </tr>\n",
       "    <tr>\n",
       "      <th>1018</th>\n",
       "      <td>IAPMEUUR</td>\n",
       "      <td>[PRS]</td>\n",
       "      <td>Médecin</td>\n",
       "      <td>[FR]</td>\n",
       "      <td>[DR] ou [PR]</td>\n",
       "      <td>[SM15]</td>\n",
       "      <td>[RPPS]</td>\n",
       "      <td>[A]</td>\n",
       "      <td>autre: [enquête]</td>\n",
       "      <td>S2</td>\n",
       "      <td>05 ou 06 ou 07 ou 13 ou 25 ou 29 ou 31 ou 33 o...</td>\n",
       "      <td>(18, 22]</td>\n",
       "      <td>2013</td>\n",
       "    </tr>\n",
       "    <tr>\n",
       "      <th>1096</th>\n",
       "      <td>IAPMEUUR</td>\n",
       "      <td>[PRS]</td>\n",
       "      <td>Médecin</td>\n",
       "      <td>[FR]</td>\n",
       "      <td>[DR] ou [PR]</td>\n",
       "      <td>[SM15]</td>\n",
       "      <td>[RPPS]</td>\n",
       "      <td>[A]</td>\n",
       "      <td>autre: [enquête]</td>\n",
       "      <td>S2</td>\n",
       "      <td>05 ou 06 ou 07 ou 13 ou 25 ou 29 ou 31 ou 33 o...</td>\n",
       "      <td>(18, 22]</td>\n",
       "      <td>2013</td>\n",
       "    </tr>\n",
       "    <tr>\n",
       "      <th>1143</th>\n",
       "      <td>IAPMEUUR</td>\n",
       "      <td>[PRS]</td>\n",
       "      <td>Médecin</td>\n",
       "      <td>[FR]</td>\n",
       "      <td>[DR] ou [PR]</td>\n",
       "      <td>[SM15]</td>\n",
       "      <td>[RPPS]</td>\n",
       "      <td>[A]</td>\n",
       "      <td>autre: [enquête]</td>\n",
       "      <td>S2</td>\n",
       "      <td>05 ou 06 ou 07 ou 13 ou 25 ou 29 ou 31 ou 33 o...</td>\n",
       "      <td>(18, 22]</td>\n",
       "      <td>2013</td>\n",
       "    </tr>\n",
       "    <tr>\n",
       "      <th>1275</th>\n",
       "      <td>IAPMEUUR</td>\n",
       "      <td>[PRS]</td>\n",
       "      <td>Médecin</td>\n",
       "      <td>[FR]</td>\n",
       "      <td>[DR] ou [PR]</td>\n",
       "      <td>[SM15]</td>\n",
       "      <td>[RPPS]</td>\n",
       "      <td>[A]</td>\n",
       "      <td>autre: [enquête]</td>\n",
       "      <td>S2</td>\n",
       "      <td>05 ou 06 ou 07 ou 13 ou 25 ou 29 ou 31 ou 33 o...</td>\n",
       "      <td>(18, 22]</td>\n",
       "      <td>2013</td>\n",
       "    </tr>\n",
       "    <tr>\n",
       "      <th>1277</th>\n",
       "      <td>IAPMEUUR</td>\n",
       "      <td>[PRS]</td>\n",
       "      <td>Médecin</td>\n",
       "      <td>[FR]</td>\n",
       "      <td>[DR] ou [PR]</td>\n",
       "      <td>[SM15]</td>\n",
       "      <td>[RPPS]</td>\n",
       "      <td>[A]</td>\n",
       "      <td>autre: [enquête]</td>\n",
       "      <td>S2</td>\n",
       "      <td>05 ou 06 ou 07 ou 13 ou 25 ou 29 ou 31 ou 33 o...</td>\n",
       "      <td>(18, 22]</td>\n",
       "      <td>2013</td>\n",
       "    </tr>\n",
       "    <tr>\n",
       "      <th>1476</th>\n",
       "      <td>IAPMEUUR</td>\n",
       "      <td>[PRS]</td>\n",
       "      <td>Médecin</td>\n",
       "      <td>[FR]</td>\n",
       "      <td>[DR] ou [PR]</td>\n",
       "      <td>[SM15]</td>\n",
       "      <td>[RPPS]</td>\n",
       "      <td>[A]</td>\n",
       "      <td>autre: [enquête]</td>\n",
       "      <td>S2</td>\n",
       "      <td>05 ou 06 ou 07 ou 13 ou 25 ou 29 ou 31 ou 33 o...</td>\n",
       "      <td>(18, 22]</td>\n",
       "      <td>2013</td>\n",
       "    </tr>\n",
       "    <tr>\n",
       "      <th>1575</th>\n",
       "      <td>IAPMEUUR</td>\n",
       "      <td>[PRS]</td>\n",
       "      <td>Médecin</td>\n",
       "      <td>[FR]</td>\n",
       "      <td>[DR] ou [PR]</td>\n",
       "      <td>[SM15]</td>\n",
       "      <td>[RPPS]</td>\n",
       "      <td>[A]</td>\n",
       "      <td>autre: [enquête]</td>\n",
       "      <td>S2</td>\n",
       "      <td>05 ou 06 ou 07 ou 13 ou 25 ou 29 ou 31 ou 33 o...</td>\n",
       "      <td>(18, 22]</td>\n",
       "      <td>2013</td>\n",
       "    </tr>\n",
       "    <tr>\n",
       "      <th>1785</th>\n",
       "      <td>IAPMEUUR</td>\n",
       "      <td>[PRS]</td>\n",
       "      <td>Médecin</td>\n",
       "      <td>[FR]</td>\n",
       "      <td>[DR] ou [PR]</td>\n",
       "      <td>[SM15]</td>\n",
       "      <td>[RPPS]</td>\n",
       "      <td>[A]</td>\n",
       "      <td>autre: [enquête]</td>\n",
       "      <td>S2</td>\n",
       "      <td>05 ou 06 ou 07 ou 13 ou 25 ou 29 ou 31 ou 33 o...</td>\n",
       "      <td>(18, 22]</td>\n",
       "      <td>2013</td>\n",
       "    </tr>\n",
       "  </tbody>\n",
       "</table>\n",
       "</div>"
      ],
      "text/plain": [
       "     entreprise_identifiant benef_categorie_code  qualite benef_pays_code  \\\n",
       "661                IAPMEUUR                [PRS]  Médecin            [FR]   \n",
       "772                IAPMEUUR                [PRS]  Médecin            [FR]   \n",
       "775                IAPMEUUR                [PRS]  Médecin            [FR]   \n",
       "834                IAPMEUUR                [PRS]  Médecin            [FR]   \n",
       "856                IAPMEUUR                [PRS]  Médecin            [FR]   \n",
       "857                IAPMEUUR                [PRS]  Médecin            [FR]   \n",
       "873                IAPMEUUR                [PRS]  Médecin            [FR]   \n",
       "903                IAPMEUUR                [PRS]  Médecin            [FR]   \n",
       "1018               IAPMEUUR                [PRS]  Médecin            [FR]   \n",
       "1096               IAPMEUUR                [PRS]  Médecin            [FR]   \n",
       "1143               IAPMEUUR                [PRS]  Médecin            [FR]   \n",
       "1275               IAPMEUUR                [PRS]  Médecin            [FR]   \n",
       "1277               IAPMEUUR                [PRS]  Médecin            [FR]   \n",
       "1476               IAPMEUUR                [PRS]  Médecin            [FR]   \n",
       "1575               IAPMEUUR                [PRS]  Médecin            [FR]   \n",
       "1785               IAPMEUUR                [PRS]  Médecin            [FR]   \n",
       "\n",
       "     benef_titre_code benef_specialite_code benef_identifiant_type_code  \\\n",
       "661      [DR] ou [PR]                [SM15]                      [RPPS]   \n",
       "772      [DR] ou [PR]                [SM15]                      [RPPS]   \n",
       "775      [DR] ou [PR]                [SM15]                      [RPPS]   \n",
       "834      [DR] ou [PR]                [SM15]                      [RPPS]   \n",
       "856      [DR] ou [PR]                [SM15]                      [RPPS]   \n",
       "857      [DR] ou [PR]                [SM15]                      [RPPS]   \n",
       "873      [DR] ou [PR]                [SM15]                      [RPPS]   \n",
       "903      [DR] ou [PR]                [SM15]                      [RPPS]   \n",
       "1018     [DR] ou [PR]                [SM15]                      [RPPS]   \n",
       "1096     [DR] ou [PR]                [SM15]                      [RPPS]   \n",
       "1143     [DR] ou [PR]                [SM15]                      [RPPS]   \n",
       "1275     [DR] ou [PR]                [SM15]                      [RPPS]   \n",
       "1277     [DR] ou [PR]                [SM15]                      [RPPS]   \n",
       "1476     [DR] ou [PR]                [SM15]                      [RPPS]   \n",
       "1575     [DR] ou [PR]                [SM15]                      [RPPS]   \n",
       "1785     [DR] ou [PR]                [SM15]                      [RPPS]   \n",
       "\n",
       "     ligne_type      avant_nature avant_conv_semestre  \\\n",
       "661         [A]  autre: [enquête]                  S2   \n",
       "772         [A]  autre: [enquête]                  S2   \n",
       "775         [A]  autre: [enquête]                  S2   \n",
       "834         [A]  autre: [enquête]                  S2   \n",
       "856         [A]  autre: [enquête]                  S2   \n",
       "857         [A]  autre: [enquête]                  S2   \n",
       "873         [A]  autre: [enquête]                  S2   \n",
       "903         [A]  autre: [enquête]                  S2   \n",
       "1018        [A]  autre: [enquête]                  S2   \n",
       "1096        [A]  autre: [enquête]                  S2   \n",
       "1143        [A]  autre: [enquête]                  S2   \n",
       "1275        [A]  autre: [enquête]                  S2   \n",
       "1277        [A]  autre: [enquête]                  S2   \n",
       "1476        [A]  autre: [enquête]                  S2   \n",
       "1575        [A]  autre: [enquête]                  S2   \n",
       "1785        [A]  autre: [enquête]                  S2   \n",
       "\n",
       "                                             benef_dept montant_décile  date  \n",
       "661   05 ou 06 ou 07 ou 13 ou 25 ou 29 ou 31 ou 33 o...       (18, 22]  2013  \n",
       "772   05 ou 06 ou 07 ou 13 ou 25 ou 29 ou 31 ou 33 o...       (18, 22]  2013  \n",
       "775   05 ou 06 ou 07 ou 13 ou 25 ou 29 ou 31 ou 33 o...       (18, 22]  2013  \n",
       "834   05 ou 06 ou 07 ou 13 ou 25 ou 29 ou 31 ou 33 o...       (18, 22]  2013  \n",
       "856   05 ou 06 ou 07 ou 13 ou 25 ou 29 ou 31 ou 33 o...       (18, 22]  2013  \n",
       "857   05 ou 06 ou 07 ou 13 ou 25 ou 29 ou 31 ou 33 o...       (18, 22]  2013  \n",
       "873   05 ou 06 ou 07 ou 13 ou 25 ou 29 ou 31 ou 33 o...       (18, 22]  2013  \n",
       "903   05 ou 06 ou 07 ou 13 ou 25 ou 29 ou 31 ou 33 o...       (18, 22]  2013  \n",
       "1018  05 ou 06 ou 07 ou 13 ou 25 ou 29 ou 31 ou 33 o...       (18, 22]  2013  \n",
       "1096  05 ou 06 ou 07 ou 13 ou 25 ou 29 ou 31 ou 33 o...       (18, 22]  2013  \n",
       "1143  05 ou 06 ou 07 ou 13 ou 25 ou 29 ou 31 ou 33 o...       (18, 22]  2013  \n",
       "1275  05 ou 06 ou 07 ou 13 ou 25 ou 29 ou 31 ou 33 o...       (18, 22]  2013  \n",
       "1277  05 ou 06 ou 07 ou 13 ou 25 ou 29 ou 31 ou 33 o...       (18, 22]  2013  \n",
       "1476  05 ou 06 ou 07 ou 13 ou 25 ou 29 ou 31 ou 33 o...       (18, 22]  2013  \n",
       "1575  05 ou 06 ou 07 ou 13 ou 25 ou 29 ou 31 ou 33 o...       (18, 22]  2013  \n",
       "1785  05 ou 06 ou 07 ou 13 ou 25 ou 29 ou 31 ou 33 o...       (18, 22]  2013  "
      ]
     },
     "execution_count": 132,
     "metadata": {},
     "output_type": "execute_result"
    }
   ],
   "source": [
    "Avantages1.anonymized_df[(Avantages1.anonymized_df['entreprise_identifiant'].str.contains('IAPMEUUR'))&(Avantages1.anonymized_df['benef_specialite_code'].str.contains('SM15]'))&(Avantages1.anonymized_df['benef_identifiant_type_code'].str.contains('RPPS]'))&(Avantages1.anonymized_df['benef_dept'].str.contains('25'))&(Avantages1.anonymized_df['montant_décile'].str.contains('18, 22]'))]"
   ]
  },
  {
   "cell_type": "code",
   "execution_count": 134,
   "metadata": {
    "collapsed": true
   },
   "outputs": [],
   "source": [
    "Avantages2.anonymized_df.iloc[1277]['entreprise_identifiant'] = 'IAPMEUUR'"
   ]
  },
  {
   "cell_type": "code",
   "execution_count": 136,
   "metadata": {
    "collapsed": false
   },
   "outputs": [
    {
     "data": {
      "text/html": [
       "<div>\n",
       "<table border=\"1\" class=\"dataframe\">\n",
       "  <thead>\n",
       "    <tr style=\"text-align: right;\">\n",
       "      <th></th>\n",
       "      <th>entreprise_identifiant</th>\n",
       "      <th>benef_categorie_code</th>\n",
       "      <th>qualite</th>\n",
       "      <th>benef_pays_code</th>\n",
       "      <th>benef_titre_code</th>\n",
       "      <th>benef_specialite_code</th>\n",
       "      <th>benef_identifiant_type_code</th>\n",
       "      <th>ligne_type</th>\n",
       "      <th>avant_nature</th>\n",
       "      <th>avant_conv_semestre</th>\n",
       "      <th>benef_dept</th>\n",
       "      <th>montant_décile</th>\n",
       "      <th>date</th>\n",
       "    </tr>\n",
       "  </thead>\n",
       "  <tbody>\n",
       "    <tr>\n",
       "      <th>1277</th>\n",
       "      <td>IAPMEUUR</td>\n",
       "      <td>[PRS]</td>\n",
       "      <td>Médecin</td>\n",
       "      <td>[FR]</td>\n",
       "      <td>[DR]</td>\n",
       "      <td>[SM15] ou [SM42] ou [SM54]</td>\n",
       "      <td>[RPPS]</td>\n",
       "      <td>[A]</td>\n",
       "      <td>autre : [restauration] ou autre [enquete] ou a...</td>\n",
       "      <td>S2</td>\n",
       "      <td>25</td>\n",
       "      <td>(18, 22]</td>\n",
       "      <td>2013 ou 2015</td>\n",
       "    </tr>\n",
       "  </tbody>\n",
       "</table>\n",
       "</div>"
      ],
      "text/plain": [
       "     entreprise_identifiant benef_categorie_code  qualite benef_pays_code  \\\n",
       "1277               IAPMEUUR                [PRS]  Médecin            [FR]   \n",
       "\n",
       "     benef_titre_code       benef_specialite_code benef_identifiant_type_code  \\\n",
       "1277             [DR]  [SM15] ou [SM42] ou [SM54]                      [RPPS]   \n",
       "\n",
       "     ligne_type                                       avant_nature  \\\n",
       "1277        [A]  autre : [restauration] ou autre [enquete] ou a...   \n",
       "\n",
       "     avant_conv_semestre benef_dept montant_décile          date  \n",
       "1277                  S2         25       (18, 22]  2013 ou 2015  "
      ]
     },
     "execution_count": 136,
     "metadata": {},
     "output_type": "execute_result"
    }
   ],
   "source": [
    "Avantages2.final_less_anonym_groups()[0]"
   ]
  },
  {
   "cell_type": "markdown",
   "metadata": {},
   "source": [
    "La k-anonymisation est bien brisée puisque le plus petit groupe isolable est d'effectif 1."
   ]
  }
 ],
 "metadata": {
  "anaconda-cloud": {},
  "kernelspec": {
   "display_name": "Python [Root]",
   "language": "python",
   "name": "Python [Root]"
  },
  "language_info": {
   "codemirror_mode": {
    "name": "ipython",
    "version": 3
   },
   "file_extension": ".py",
   "mimetype": "text/x-python",
   "name": "python",
   "nbconvert_exporter": "python",
   "pygments_lexer": "ipython3",
   "version": "3.5.2"
  }
 },
 "nbformat": 4,
 "nbformat_minor": 0
}
