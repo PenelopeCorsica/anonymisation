{
 "cells": [
  {
   "cell_type": "markdown",
   "metadata": {},
   "source": [
    "# Application de la k-anonymisation sur Transparence Santé"
   ]
  },
  {
   "cell_type": "markdown",
   "metadata": {},
   "source": [
    "## 1) Téléchargement des données"
   ]
  },
  {
   "cell_type": "markdown",
   "metadata": {},
   "source": [
    "Le fichier peut être téléchargé à cette adresse : https://www.data.gouv.fr/fr/datasets/transparence-sante-1/  \n",
    "ou directement sur : https://www.transparence.sante.gouv.fr/exports-etalab/exports-etalab.zip  \n",
    "\n",
    "Ce jeu de données contient environ 2 millions de lignes. Le fichier exports-etalab.zip contient :\n",
    "* Le jeu de données  \n",
    "* La présentation du jeu de données  \n",
    "* La licence d'utilisation\n",
    "     \n",
    "  \n",
    " \n",
    "Le fichier INSEE pour l'enrichissement des données peut être téléchargé ici : http://www.insee.fr/fr/themes/detail.asp?reg_id=99&ref_id=equip-serv-medical-para\n",
    "ou directement sur : http://www.insee.fr/fr/ppp/bases-de-donnees/donnees-detaillees/equip-serv-medical-para/equip-serv-medical-para-com-2015.zip"
   ]
  },
  {
   "cell_type": "code",
   "execution_count": 1,
   "metadata": {
    "collapsed": false
   },
   "outputs": [],
   "source": [
    "#!/usr/bin/env python\n",
    "\"\"\"\n",
    "A partir des fonctions du dépôt anonymizer, ce fichier va notamment vous permettre de :\n",
    "\n",
    "1. **Importer** les données de la base Transparence Santé.\n",
    "2. **Nettoyer** les variables et sélectionner celles à anonymiser\n",
    "3. **Anonymiser** les données selon un procédé de K-anonymisation\n",
    "4. **Compléter** avec les données INSEE afin d'en mesurer la plus-value.\n",
    "\n",
    "\"\"\"\n",
    "\n",
    "import csv\n",
    "import numpy as np\n",
    "import pandas as pd\n",
    "import matplotlib\n",
    "import matplotlib.pyplot as plt\n",
    "\n",
    "from import_insee import (expand_insee,\n",
    "                                     nbre_modif)\n",
    "\n",
    "from anonymizer.anonymity import (get_k, get_anonymities,\n",
    "                                  less_anonym_groups,\n",
    "                                 all_local_aggregation)\n",
    "from anonymizer.diversity import (get_l,\n",
    "                                  get_diversities,\n",
    "                                  diversity_distribution,\n",
    "                                  less_diverse_groups\n",
    "                                )\n",
    "from anonymizer.transformations import (first_letters,\n",
    "                                       last_letters,\n",
    "                                       local_aggregation)\n",
    "from anonymizer.transformations import str_drop\n",
    "from anonymizer.anonymDF import AnonymDataFrame\n",
    "\n",
    "from anonymizer.config_anonymizer import config\n",
    "import os\n",
    "import io"
   ]
  },
  {
   "cell_type": "code",
   "execution_count": 2,
   "metadata": {
    "collapsed": false
   },
   "outputs": [],
   "source": [
    "# ## I. Nettoyage de la base de données\n",
    "\n",
    "# Importation des 50 000 premières lignes\n",
    "\n",
    "path_data = config['PATH']['TRANSPARENCE']\n",
    "\n",
    "nbre_lignes = 50000\n",
    "avantages = pd.read_csv(path_data, sep = \";\", nrows = nbre_lignes, low_memory = False)"
   ]
  },
  {
   "cell_type": "code",
   "execution_count": 3,
   "metadata": {
    "collapsed": true
   },
   "outputs": [],
   "source": [
    "# === Séparation personnes physiques/morales ===  \n",
    "# On ne traite pas le cas des personnes morales\n",
    "\n",
    "\n",
    "code_personne_physique = ['[PRS]','[ETU]']\n",
    "personnes_physiques = avantages[avantages['benef_categorie_code'].isin(code_personne_physique)]\n",
    "personnes_morales = avantages[~avantages['benef_categorie_code'].isin(code_personne_physique)]\n",
    "avantages = personnes_physiques"
   ]
  },
  {
   "cell_type": "code",
   "execution_count": 4,
   "metadata": {
    "collapsed": true
   },
   "outputs": [],
   "source": [
    "# === transformatiosn préalables ===\n",
    "\n",
    "# * On transforme les CP en indicateurs régionaux\n",
    "avantages['benef_dept'] = first_letters(avantages['benef_codepostal'],2)\n",
    "\n",
    "# * On supprime les CP peu orthodoxes\n",
    "erreur_CP = ['0', '', 'IN']\n",
    "avantages.loc[avantages['benef_dept'].isin(erreur_CP), 'benef_dept'] = np.nan\n",
    "erreur_pays = ['[RE]','[GP]']\n",
    "avantages.loc[avantages['benef_pays_code'].isin(erreur_pays), 'benef_pays_code'] = '[FR]'\n",
    "\n",
    "# * On homogénéise les valeurs manquantes ou tierces par la mention \"non-renseigné\"\n",
    "avantages = avantages.fillna('non renseigné')\n",
    "to_replace = ['[AUTRE]', '']\n",
    "avantages.replace(to_replace, 'non renseigné', inplace=True)\n",
    "\n",
    "# * On transforme la valeur des conventions/avantages en leur équivalent décile (uniformisation)\n",
    "\n",
    "avantages['avant_montant_ttc'] = avantages['avant_montant_ttc'].astype(float)\n",
    "avantages['montant_décile'] = pd.qcut(avantages.avant_montant_ttc,10)\n",
    "\n",
    "# * On transforme la date (signature des avantages) en mois/année (le jour est trop identifiant)\n",
    "\n",
    "avantages['date'] = last_letters(avantages['avant_date_signature'],6)\n",
    "\n",
    "avantages['avant_nature'] = avantages['avant_nature'].str.lower()\n",
    "\n",
    "\n",
    "# * On supprime d'abord les variables identifiantes afin de ne garder que les variables quasi-identifiantes\n",
    "\n",
    "variables_supprimees = ['avant_convention_lie', \n",
    "                        'identifiant_type', \n",
    "                        'benef_qualification', \n",
    "                        'benef_speicalite_libelle', \n",
    "                        'ligne_rectification',\n",
    "                        'denomination_sociale',\n",
    "                        'benef_titre_libelle',\n",
    "                        'benef_prenom',\n",
    "                        'benef_nom', \n",
    "                        'benef_adresse1', \n",
    "                        'benef_adresse2',\n",
    "                        'benef_adresse3',\n",
    "                        'benef_adresse4',\n",
    "                        'benef_identifiant_valeur',\n",
    "                        'benef_ville',\n",
    "                        'benef_etablissement_ville',\n",
    "                        'categorie',\n",
    "                        'benef_qualite_code',\n",
    "                        'benef_codepostal',\n",
    "                        'benef_etablissement_codepostal',\n",
    "                       'ligne_identifiant',\n",
    "                       'pays',\n",
    "                       'benef_denomination_sociale',\n",
    "                       'benef_objet_social',\n",
    "                        'avant_date_signature',\n",
    "                        'avant_montant_ttc',\n",
    "                       'benef_etablissement']\n",
    "\n",
    "avantages = avantages.drop(variables_supprimees,1)\n",
    "\n",
    "avantages['montant_décile'] = avantages['montant_décile'].astype(str)\n",
    "avantages['date'] = avantages['date'].astype(str)"
   ]
  },
  {
   "cell_type": "code",
   "execution_count": 5,
   "metadata": {
    "collapsed": true
   },
   "outputs": [],
   "source": [
    "# On définit ici les variables traitées pour l'anonymisation\n",
    "\n",
    "var = avantages.columns.tolist()\n",
    "var.remove('ligne_type')\n",
    "var.remove('avant_nature')"
   ]
  },
  {
   "cell_type": "code",
   "execution_count": 6,
   "metadata": {
    "collapsed": false,
    "scrolled": true
   },
   "outputs": [],
   "source": [
    "ordre_aggregation = ['benef_dept',\n",
    "        'benef_categorie_code',\n",
    "        'qualite',\n",
    "        'benef_pays_code',\n",
    "        'benef_titre_code',\n",
    "        'benef_identifiant_type_code']"
   ]
  },
  {
   "cell_type": "code",
   "execution_count": 7,
   "metadata": {
    "collapsed": false
   },
   "outputs": [],
   "source": [
    "# ## II. Traitement des données brutes (sans INSEE)\n",
    "\n",
    "# On k-anonymise dès maintenant la base brute.\n",
    "# On définit ici k = 5\n",
    "# On fait bien attention à anonymiser de façon \"regroup\" les variables, \n",
    "# sauf la date pour laquelle on choisit la méthode \"year\"\n",
    "\n",
    "Avantages = AnonymDataFrame(avantages.copy(),  ordre_aggregation, unknown='non renseigné')\n",
    "k = 5\n",
    "\n",
    "def aggregation_serie(x):\n",
    "        return(local_aggregation(x, k, 'regroup_with_smallest', 'non renseigné'))\n",
    "method_anonymisation = [(name, aggregation_serie) for name in ordre_aggregation[:-1]]\n",
    "\n",
    "def aggregation_year(x):\n",
    "        return(local_aggregation(x, k, 'with_closest', 'non renseigné'))\n",
    "method_anonymisation += [('date', aggregation_year)]"
   ]
  },
  {
   "cell_type": "code",
   "execution_count": 8,
   "metadata": {
    "collapsed": false
   },
   "outputs": [
    {
     "data": {
      "text/plain": [
       "<anonymizer.anonymDF.AnonymDataFrame at 0x7fc0bc9486d8>"
      ]
     },
     "execution_count": 8,
     "metadata": {},
     "output_type": "execute_result"
    }
   ],
   "source": [
    "Avantages.local_transform(method_anonymisation, k)"
   ]
  },
  {
   "cell_type": "code",
   "execution_count": 9,
   "metadata": {
    "collapsed": false
   },
   "outputs": [],
   "source": [
    "Avantages.df = Avantages.anonymized_df"
   ]
  },
  {
   "cell_type": "code",
   "execution_count": 10,
   "metadata": {
    "collapsed": false
   },
   "outputs": [],
   "source": [
    "modalites_modifiees = [((Avantages.df.values != avantages.values).sum())]\n",
    "modalites_intactes = [((Avantages.df.values == avantages.values).sum())]\n"
   ]
  },
  {
   "cell_type": "code",
   "execution_count": 11,
   "metadata": {
    "collapsed": true
   },
   "outputs": [],
   "source": [
    "# ## II. Chargement des données INSEE\n",
    "\n",
    "# construction d'un dictionnaire reliant les professions (INSEE) aux professions (Transparence Santé)\n",
    "\n",
    "annuaire = {'Médecin omnipraticien' : ['benef_specialite_code', '[SM54]'],\n",
    " 'Spécialiste en cardiologie' : ['benef_specialite_code', '[SM04]'],\n",
    " 'Spécialiste en dermatologie vénéréologie' : ['benef_specialite_code', '[SM15]'],\n",
    " 'Spécialiste en gynécologie médicale' : ['benef_specialite_code', '[SM19]'],\n",
    " 'Spécialiste en gynécologie obstétrique' : ['benef_specialite_code', '[SM20]'],\n",
    " 'Spécialiste en gastro-entérologie hépatologie' : ['benef_specialite_code', '[SM24]'],\n",
    " 'Spécialiste en psychiatrie' : ['benef_specialite_code', '[SM42]'],\n",
    " 'Spécialiste en ophtalmologie' : ['benef_specialite_code', '[SM38]'],\n",
    " 'Spécialiste en oto-rhino-laryngologie' : ['benef_specialite_code', '[SM39]'],\n",
    " 'Spécialiste en pédiatrie' : ['benef_specialite_code', '[SM40]'],\n",
    " 'Spécialiste en pneumologie' : ['benef_specialite_code', '[SM41]'],\n",
    " 'Spécialiste en radiodiagnostic et imagerie médicale' : ['benef_specialite_code', '[SM44]'],\n",
    " 'Spécialiste en stomatologie' : ['benef_specialite_code', '[SM50]'],\n",
    " 'Chirurgien dentiste' : ['qualite', 'Chirurgien-dentiste'],\n",
    " 'Sage-femme' : ['qualite', 'Sage-femme'],\n",
    " 'Infirmier' : ['qualite', 'Infirmier'],\n",
    " 'Masseur kinésithérapeute' : ['qualite', 'Masseur-kinésithérapeute'],\n",
    " 'Orthophoniste' : ['qualite', 'Orthophoniste'],\n",
    " 'Orthoptiste' : ['qualite', 'Orthoptiste'],\n",
    " 'Pédicure-podologue' : ['qualite', 'Pédicure-podologue'],\n",
    " 'Audio prothésiste' : ['qualite', 'Audio prothésiste'],\n",
    " 'Ergothérapeute' : ['qualite', 'Ergothérapeute'],\n",
    " 'Psychomotricien' : ['qualite', 'Psychomotricien']}"
   ]
  },
  {
   "cell_type": "code",
   "execution_count": 12,
   "metadata": {
    "collapsed": false
   },
   "outputs": [],
   "source": [
    "# On charge les données INSEE\n",
    "\n",
    "path_data_insee = config['PATH']['INSEE']\n",
    "\n",
    "insee_init = pd.read_csv(path_data_insee, sep=\";\", encoding = \"ISO-8859-1\", low_memory=False)\n",
    "insee_init.columns.astype(str)\n",
    "\n",
    "insee_init['Département'] = insee_init['Département'].astype(str)\n",
    "insee_init['Région 2016'] = insee_init['Région 2016'].astype(str)\n",
    "\n",
    "insee_init['Département'] = first_letters(insee_init['Département'],2)"
   ]
  },
  {
   "cell_type": "code",
   "execution_count": 13,
   "metadata": {
    "collapsed": true
   },
   "outputs": [],
   "source": [
    "# On fusionne les départements d'Outre-mer dans une seule catégorie (trop identifiant, sinon)  \n",
    "\n",
    "outremer = ['1','2','3','4','6']\n",
    "insee_init.loc[insee_init['Région 2016'].isin(outremer), 'Région 2016'] = 1\n",
    "\n",
    "list_région = insee_init['Région 2016'].unique().tolist()\n",
    "\n",
    "insee = insee_init.copy()\n",
    "\n",
    "var_écartées = ['Région', 'Région 2016', 'CODGEO', 'Libellé commune ou ARM']\n",
    "insee = insee.drop(var_écartées,1)"
   ]
  },
  {
   "cell_type": "code",
   "execution_count": 14,
   "metadata": {
    "collapsed": false
   },
   "outputs": [],
   "source": [
    "# === On rajoute à la base originale les données INSEE ===\n",
    "\n",
    "# avantages_total est donc constituée de la base Transparence Santé, complétée par les données INSEE\n",
    "\n",
    "g = insee.groupby('Département')\n",
    "\n",
    "expanded_insee = expand_insee(g, annuaire, avantages)\n",
    "\n",
    "expanded_insee.columns = avantages.columns.tolist()\n",
    "avantages_total = pd.concat([avantages, expanded_insee]).reset_index()\n",
    "avantages_total = avantages_total.drop('index',1)\n"
   ]
  },
  {
   "cell_type": "code",
   "execution_count": 15,
   "metadata": {
    "collapsed": false
   },
   "outputs": [
    {
     "data": {
      "text/html": [
       "<div>\n",
       "<table border=\"1\" class=\"dataframe\">\n",
       "  <thead>\n",
       "    <tr style=\"text-align: right;\">\n",
       "      <th></th>\n",
       "      <th>entreprise_identifiant</th>\n",
       "      <th>benef_categorie_code</th>\n",
       "      <th>qualite</th>\n",
       "      <th>benef_pays_code</th>\n",
       "      <th>benef_titre_code</th>\n",
       "      <th>benef_specialite_code</th>\n",
       "      <th>benef_identifiant_type_code</th>\n",
       "      <th>ligne_type</th>\n",
       "      <th>avant_nature</th>\n",
       "      <th>avant_conv_semestre</th>\n",
       "      <th>benef_dept</th>\n",
       "      <th>montant_décile</th>\n",
       "      <th>date</th>\n",
       "    </tr>\n",
       "  </thead>\n",
       "  <tbody>\n",
       "    <tr>\n",
       "      <th>0</th>\n",
       "      <td>non renseigné</td>\n",
       "      <td>[PRS]</td>\n",
       "      <td>Médecin</td>\n",
       "      <td>[FR]</td>\n",
       "      <td>[DR]</td>\n",
       "      <td>[SM54]</td>\n",
       "      <td>[RPPS]</td>\n",
       "      <td>non renseigné</td>\n",
       "      <td>non renseigné</td>\n",
       "      <td>non renseigné</td>\n",
       "      <td>01</td>\n",
       "      <td>non renseigné</td>\n",
       "      <td>non renseigné</td>\n",
       "    </tr>\n",
       "    <tr>\n",
       "      <th>1</th>\n",
       "      <td>non renseigné</td>\n",
       "      <td>[PRS]</td>\n",
       "      <td>Médecin</td>\n",
       "      <td>[FR]</td>\n",
       "      <td>[DR]</td>\n",
       "      <td>[SM54]</td>\n",
       "      <td>[RPPS]</td>\n",
       "      <td>non renseigné</td>\n",
       "      <td>non renseigné</td>\n",
       "      <td>non renseigné</td>\n",
       "      <td>01</td>\n",
       "      <td>non renseigné</td>\n",
       "      <td>non renseigné</td>\n",
       "    </tr>\n",
       "    <tr>\n",
       "      <th>2</th>\n",
       "      <td>non renseigné</td>\n",
       "      <td>[PRS]</td>\n",
       "      <td>Médecin</td>\n",
       "      <td>[FR]</td>\n",
       "      <td>[DR]</td>\n",
       "      <td>[SM54]</td>\n",
       "      <td>[RPPS]</td>\n",
       "      <td>non renseigné</td>\n",
       "      <td>non renseigné</td>\n",
       "      <td>non renseigné</td>\n",
       "      <td>01</td>\n",
       "      <td>non renseigné</td>\n",
       "      <td>non renseigné</td>\n",
       "    </tr>\n",
       "    <tr>\n",
       "      <th>3</th>\n",
       "      <td>non renseigné</td>\n",
       "      <td>[PRS]</td>\n",
       "      <td>Médecin</td>\n",
       "      <td>[FR]</td>\n",
       "      <td>[DR]</td>\n",
       "      <td>[SM54]</td>\n",
       "      <td>[RPPS]</td>\n",
       "      <td>non renseigné</td>\n",
       "      <td>non renseigné</td>\n",
       "      <td>non renseigné</td>\n",
       "      <td>01</td>\n",
       "      <td>non renseigné</td>\n",
       "      <td>non renseigné</td>\n",
       "    </tr>\n",
       "    <tr>\n",
       "      <th>4</th>\n",
       "      <td>non renseigné</td>\n",
       "      <td>[PRS]</td>\n",
       "      <td>Médecin</td>\n",
       "      <td>[FR]</td>\n",
       "      <td>[DR]</td>\n",
       "      <td>[SM54]</td>\n",
       "      <td>[RPPS]</td>\n",
       "      <td>non renseigné</td>\n",
       "      <td>non renseigné</td>\n",
       "      <td>non renseigné</td>\n",
       "      <td>01</td>\n",
       "      <td>non renseigné</td>\n",
       "      <td>non renseigné</td>\n",
       "    </tr>\n",
       "  </tbody>\n",
       "</table>\n",
       "</div>"
      ],
      "text/plain": [
       "  entreprise_identifiant benef_categorie_code  qualite benef_pays_code  \\\n",
       "0          non renseigné                [PRS]  Médecin            [FR]   \n",
       "1          non renseigné                [PRS]  Médecin            [FR]   \n",
       "2          non renseigné                [PRS]  Médecin            [FR]   \n",
       "3          non renseigné                [PRS]  Médecin            [FR]   \n",
       "4          non renseigné                [PRS]  Médecin            [FR]   \n",
       "\n",
       "  benef_titre_code benef_specialite_code benef_identifiant_type_code  \\\n",
       "0             [DR]                [SM54]                      [RPPS]   \n",
       "1             [DR]                [SM54]                      [RPPS]   \n",
       "2             [DR]                [SM54]                      [RPPS]   \n",
       "3             [DR]                [SM54]                      [RPPS]   \n",
       "4             [DR]                [SM54]                      [RPPS]   \n",
       "\n",
       "      ligne_type   avant_nature avant_conv_semestre benef_dept montant_décile  \\\n",
       "0  non renseigné  non renseigné       non renseigné         01  non renseigné   \n",
       "1  non renseigné  non renseigné       non renseigné         01  non renseigné   \n",
       "2  non renseigné  non renseigné       non renseigné         01  non renseigné   \n",
       "3  non renseigné  non renseigné       non renseigné         01  non renseigné   \n",
       "4  non renseigné  non renseigné       non renseigné         01  non renseigné   \n",
       "\n",
       "            date  \n",
       "0  non renseigné  \n",
       "1  non renseigné  \n",
       "2  non renseigné  \n",
       "3  non renseigné  \n",
       "4  non renseigné  "
      ]
     },
     "execution_count": 15,
     "metadata": {},
     "output_type": "execute_result"
    }
   ],
   "source": [
    "expanded_insee.head()"
   ]
  },
  {
   "cell_type": "code",
   "execution_count": 16,
   "metadata": {
    "collapsed": false
   },
   "outputs": [],
   "source": [
    "# === On anonymise (données enrichies) ===\n",
    "\n",
    "# On fait bien attention à anonymiser de façon \"regroup\" les variables, \n",
    "# sauf la date pour laquelle on choisit la méthode \"year\"\n",
    "\n",
    "Avantages_avec_insee = AnonymDataFrame(avantages_total.copy(),  ordre_aggregation, unknown='non renseigné')\n",
    "\n",
    "Avantages_avec_insee.local_transform(method_anonymisation, k, force_unknown='Yeeees')\n",
    "Avantages_avec_insee.df = Avantages_avec_insee.anonymized_df"
   ]
  },
  {
   "cell_type": "code",
   "execution_count": 17,
   "metadata": {
    "collapsed": false
   },
   "outputs": [],
   "source": [
    "modalites_modifiees.append((Avantages_avec_insee.df[Avantages_avec_insee.df['ligne_type']=='[A]'].values != avantages_total[avantages_total['ligne_type']=='[A]'].values).sum())\n",
    "modalites_intactes.append((Avantages_avec_insee.df[Avantages_avec_insee.df['ligne_type']=='[A]'].values == avantages_total[avantages_total['ligne_type']=='[A]'].values).sum())\n"
   ]
  },
  {
   "cell_type": "code",
   "execution_count": 34,
   "metadata": {
    "collapsed": false
   },
   "outputs": [],
   "source": [
    "# === On va maintenant comparer par variables le taux de remplacement ===\n",
    "\n",
    "\n",
    "modif_par_var_1 = []\n",
    "for variable in ordre_aggregation :\n",
    "    modif_par_var_1.append((Avantages.df[variable] != avantages[variable]).sum())\n",
    "\n",
    "modif_par_var_2 = []\n",
    "for variable in ordre_aggregation :\n",
    "    modif_par_var_2.append((Avantages_avec_insee.df[variable][Avantages_avec_insee.df['ligne_type']=='[A]'] != avantages_total[variable][avantages_total['ligne_type']=='[A]']).sum())\n",
    "\n",
    "\n",
    "n_groups = len(ordre_aggregation) # data to plot\n",
    "\n",
    "fig, ax = plt.subplots() # create plot\n",
    "\n",
    "\n",
    "index = np.arange(n_groups)\n",
    "bar_width = 0.35\n",
    "opacity = 1\n",
    "\n",
    "rects1 = plt.bar(index, modif_par_var_1, bar_width,\n",
    "                 alpha=opacity,\n",
    "                 color='b',\n",
    "                 label='Séries brutes')\n",
    "\n",
    "\n",
    "rects2 = plt.bar(index + bar_width, modif_par_var_2 , bar_width,\n",
    "                 alpha=opacity,\n",
    "                 color='r',\n",
    "                 label='Séries avec données INSEE')\n",
    "\n",
    "plt.ylim(0, 5000) # ax.axhline(y = modalites_modifiees[0]) #ax.axhline(y = taille_données_transparence[0])\n",
    "\n",
    "\n",
    "plt.xlabel('Variable anonymisée')\n",
    "plt.ylabel('Nombre de valeurs modifiées')\n",
    "plt.title('Modification de valeurs')\n",
    "plt.xticks(index + bar_width, var)\n",
    "plt.legend()\n",
    "\n",
    "plt.tight_layout()\n",
    "plt.show()"
   ]
  }
 ],
 "metadata": {
  "anaconda-cloud": {},
  "kernelspec": {
   "display_name": "Python [Root]",
   "language": "python",
   "name": "Python [Root]"
  },
  "language_info": {
   "codemirror_mode": {
    "name": "ipython",
    "version": 3
   },
   "file_extension": ".py",
   "mimetype": "text/x-python",
   "name": "python",
   "nbconvert_exporter": "python",
   "pygments_lexer": "ipython3",
   "version": "3.5.2"
  }
 },
 "nbformat": 4,
 "nbformat_minor": 0
}
