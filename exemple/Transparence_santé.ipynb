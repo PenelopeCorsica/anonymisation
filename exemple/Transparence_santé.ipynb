{
 "cells": [
  {
   "cell_type": "code",
   "execution_count": 1,
   "metadata": {
    "collapsed": true
   },
   "outputs": [],
   "source": [
    "#  K-anonymisation sur la base \"Transparence Santé\" - Avantages (k=5)"
   ]
  },
  {
   "cell_type": "markdown",
   "metadata": {},
   "source": [
    "## I. Nettoyage de la base de données"
   ]
  },
  {
   "cell_type": "code",
   "execution_count": 2,
   "metadata": {
    "collapsed": true
   },
   "outputs": [],
   "source": [
    "%matplotlib inline"
   ]
  },
  {
   "cell_type": "code",
   "execution_count": 3,
   "metadata": {
    "collapsed": false
   },
   "outputs": [],
   "source": [
    "import csv\n",
    "import numpy as np\n",
    "import pandas as pd\n",
    "import matplotlib \n",
    "import matplotlib.pyplot as plt\n",
    "\n",
    "from anonymizer.import_insee import (expand_insee,\n",
    "                                     nbre_modif)\n",
    "\n",
    "from anonymizer.anonymity import (get_k, get_anonymities, \n",
    "                                  less_anonym_groups,\n",
    "                                  local_aggregation,\n",
    "                                  _local_aggregate_one_var)\n",
    "from anonymizer.diversity import (get_l, \n",
    "                                  get_diversities, \n",
    "                                  diversity_distribution,\n",
    "                                  less_diverse_groups\n",
    "                                )\n",
    "from anonymizer.transformations import (first_letters)\n",
    "from anonymizer.transformations import str_drop\n",
    "from anonymizer.anonymDF import AnonymDataFrame"
   ]
  },
  {
   "cell_type": "code",
   "execution_count": 4,
   "metadata": {
    "collapsed": false
   },
   "outputs": [],
   "source": [
    "# Importation des 50 000 premières lignes\n",
    "\n",
    "chemin = \"C:/Users/Pierre-Louis/declaration_avantage_2016_06_06_04_00.csv\"\n",
    "\n",
    "nbre_lignes = 50000\n",
    "avantages = pd.read_csv(chemin, sep = \";\", nrows = nbre_lignes, low_memory = False)"
   ]
  },
  {
   "cell_type": "code",
   "execution_count": 5,
   "metadata": {
    "collapsed": false
   },
   "outputs": [],
   "source": [
    "# Quelques petites transformations préalables\n",
    "\n",
    "# On transforme les CP en indicateurs régionaux\n",
    "avantages['benef_dept'] = first_letters(avantages['benef_codepostal'],2)\n",
    "avantages['benef_etablissement_dept'] = first_letters(avantages['benef_etablissement_codepostal'],2)\n",
    "\n",
    "# On supprime les CP peu orthodoxes\n",
    "erreur_CP = ['0', '', 'IN']\n",
    "avantages.loc[avantages['benef_dept'].isin(erreur_CP), 'benef_dept'] = np.nan\n",
    "erreur_pays = ['[RE]','[GP]']\n",
    "avantages.loc[avantages['benef_pays_code'].isin(erreur_pays), 'benef_pays_code'] = '[FR]'\n",
    "\n",
    "# On remplace les \"Nan\" par \"non-renseigné\"\n",
    "avantages = avantages.fillna('non renseigné')\n",
    "to_replace = ['[AUTRE]', '']\n",
    "avantages.replace(to_replace, 'non renseigné', inplace=True)\n",
    "\n",
    "\n",
    "# On supprime d'abord les variables identifiantes afin de ne garder que les variables quasi-identifiantes\n",
    "\n",
    "variables_supprimees = ['avant_convention_lie', # nom de code de la convention\n",
    "                        'identifiant_type', # on garde la valeur \n",
    "                        'benef_qualification', # champ libre on ne garde que benef_specialite et qualite\n",
    "                        'benef_speicalite_libelle', #\n",
    "                        'ligne_rectification',\n",
    "                        'denomination_sociale',\n",
    "                        'benef_titre_libelle',\n",
    "                        'pays',\n",
    "                        'benef_prenom', # identifiant\n",
    "                        'benef_nom', # identifiant\n",
    "                        'benef_adresse1', # identifiant\n",
    "                        'benef_adresse2', # identifiant\n",
    "                        'benef_adresse3',# identifiant\n",
    "                        'benef_adresse4',# identifiant\n",
    "                        'benef_identifiant_valeur',# identifiant\n",
    "                        'benef_ville',# identifiant\n",
    "                        'benef_etablissement_ville',# identifiant\n",
    "                        'categorie',\n",
    "                        'benef_qualite_code',\n",
    "                        'benef_codepostal', \n",
    "                        'benef_etablissement_codepostal']\n",
    "\n",
    "avantages = avantages.drop(variables_supprimees,1)\n"
   ]
  },
  {
   "cell_type": "code",
   "execution_count": 6,
   "metadata": {
    "collapsed": false
   },
   "outputs": [],
   "source": [
    "# Voici la liste des variables exploitées pour l'anonymisation (brutes ou modifiées au cours de l'anonymisation)\n",
    "\n",
    "avantages['avant_montant_ttc'] = avantages['avant_montant_ttc'].astype(float)\n",
    "avantages['montant_décile'] = pd.qcut(avantages.avant_montant_ttc,10)\n",
    "\n",
    "\n",
    "annee = []\n",
    "mois = []\n",
    "\n",
    "for row in pd.to_datetime(avantages['avant_date_signature'], infer_datetime_format=True):\n",
    "    annee.append(row.year)\n",
    "    mois.append(row.month)\n",
    "avantages['mois'] = mois\n",
    "avantages['année'] = annee\n",
    "avantages['avant_nature'] = avantages['avant_nature'].str.lower()\n",
    "\n",
    "#avantages.avant_nature.unique()\n",
    "#l=[]\n",
    "#for row in avantages['avant_nature'] :\n",
    "#    if 'repas' in row or 'bouche' in row or 'diner' in row or 'dîner' in row or 'déjeuner' in row or 'dejeuner' in row or 'restau' in row or 'collation' in row : \n",
    "#        l.append('repas')\n",
    "#    elif 'hebergement' in row or 'resident' in row or 'résident' in row or 'hébergement' in row or 'hospitalité' in row or 'hospitalite' in row or 'hotel' in row :\n",
    "#        l.append('hébergement')\n",
    "#    elif 'transport' in row or 'trajet' in row or 'acheminement' in row or 'taxi' in row or 'train' in row or 'avion' in row or 'deplacement' in row or 'déplacement' in row:\n",
    "#        l.append('transport')\n",
    "#    elif 'don' in row or 'cadeau' in row or 'echantillon' in row or 'échantillon' in row : \n",
    "#        l.append('don/cadeau')\n",
    "#    elif 'enquête' in row or 'enquete' in row :\n",
    "#        l.append('enquête')\n",
    "#    elif 'inscription' in row :\n",
    "#        l.append(\"frais d'inscription\")\n",
    "#    elif 'honoraires' in row :\n",
    "#        l.append(\"honoraires\")\n",
    "#    elif 'invitations' in row :\n",
    "#        l.append('invitation')\n",
    "#    else :\n",
    "#        l.append('autre')\n",
    "#avantages[\"nature\"] = l'''\n",
    "\n",
    "\n",
    "# On crée une colonne \"avantages ou conventions\"\n",
    "avantages['av_ou_conv'] = 'oui'"
   ]
  },
  {
   "cell_type": "code",
   "execution_count": 7,
   "metadata": {
    "collapsed": false
   },
   "outputs": [],
   "source": [
    "# On définit ici les variables traitées pour l'anonymisation\n",
    "\n",
    "var = ['benef_categorie_code', \n",
    "       'qualite', 'benef_titre_code', \n",
    "       'benef_specialite_code', \n",
    "       'benef_dept',\n",
    "       'benef_identifiant_type_code']"
   ]
  },
  {
   "cell_type": "markdown",
   "metadata": {},
   "source": [
    "## II. Traitement des données brutes (sans INSEE)"
   ]
  },
  {
   "cell_type": "code",
   "execution_count": 8,
   "metadata": {
    "collapsed": true
   },
   "outputs": [],
   "source": [
    "avantages_kanonym = local_aggregation(avantages.copy(), 5, var, method='regroup')"
   ]
  },
  {
   "cell_type": "code",
   "execution_count": 34,
   "metadata": {
    "collapsed": false
   },
   "outputs": [],
   "source": [
    "modalites_modifiees = [(avantages_kanonym != avantages).sum().sum()] # Nombre de modifications des modalités\n",
    "modalites_intactes = [len(avantages[avantages['av_ou_conv']=='oui']) - modalites_modifiees[0]]"
   ]
  },
  {
   "cell_type": "markdown",
   "metadata": {},
   "source": [
    "## II. Chargement des données INSEE"
   ]
  },
  {
   "cell_type": "code",
   "execution_count": 10,
   "metadata": {
    "collapsed": false
   },
   "outputs": [],
   "source": [
    "# construction d'un dictionnaire reliant les professions (INSEE) aux professions (Transparence Santé) \n",
    "\n",
    "annuaire = {'Médecin omnipraticien' : ['benef_specialite_code', '[SM54]'],\n",
    " 'Spécialiste en cardiologie' : ['benef_specialite_code', '[SM04]'],\n",
    " 'Spécialiste en dermatologie vénéréologie' : ['benef_specialite_code', '[SM15]'],\n",
    " 'Spécialiste en gynécologie médicale' : ['benef_specialite_code', '[SM19]'],\n",
    " 'Spécialiste en gynécologie obstétrique' : ['benef_specialite_code', '[SM20]'],\n",
    " 'Spécialiste en gastro-entérologie hépatologie' : ['benef_specialite_code', '[SM24]'],\n",
    " 'Spécialiste en psychiatrie' : ['benef_specialite_code', '[SM42]'],\n",
    " 'Spécialiste en ophtalmologie' : ['benef_specialite_code', '[SM38]'],\n",
    " 'Spécialiste en oto-rhino-laryngologie' : ['benef_specialite_code', '[SM39]'],\n",
    " 'Spécialiste en pédiatrie' : ['benef_specialite_code', '[SM40]'],\n",
    " 'Spécialiste en pneumologie' : ['benef_specialite_code', '[SM41]'],\n",
    " 'Spécialiste en radiodiagnostic et imagerie médicale' : ['benef_specialite_code', '[SM44]'],\n",
    " 'Spécialiste en stomatologie' : ['benef_specialite_code', '[SM50]'],\n",
    " 'Chirurgien dentiste' : ['qualite', 'Chirurgien-dentiste'],\n",
    " 'Sage-femme' : ['qualite', 'Sage-femme'],\n",
    " 'Infirmier' : ['qualite', 'Infirmier'],\n",
    " 'Masseur kinésithérapeute' : ['qualite', 'Masseur-kinésithérapeute'],\n",
    " 'Orthophoniste' : ['qualite', 'Orthophoniste'],\n",
    " 'Orthoptiste' : ['qualite', 'Orthoptiste'],\n",
    " 'Pédicure-podologue' : ['qualite', 'Pédicure-podologue'],\n",
    " 'Audio prothésiste' : ['qualite', 'Audio prothésiste'],\n",
    " 'Ergothérapeute' : ['qualite', 'Ergothérapeute'],\n",
    " 'Psychomotricien' : ['qualite', 'Psychomotricien']}"
   ]
  },
  {
   "cell_type": "code",
   "execution_count": 11,
   "metadata": {
    "collapsed": false
   },
   "outputs": [
    {
     "name": "stderr",
     "output_type": "stream",
     "text": [
      "C:\\Users\\Pierre-Louis\\Anaconda32\\lib\\site-packages\\IPython\\core\\interactiveshell.py:2723: DtypeWarning: Columns (0,4) have mixed types. Specify dtype option on import or set low_memory=False.\n",
      "  interactivity=interactivity, compiler=compiler, result=result)\n",
      "C:\\Users\\Pierre-Louis\\Anaconda32\\lib\\site-packages\\ipykernel\\__main__.py:13: SettingWithCopyWarning: \n",
      "A value is trying to be set on a copy of a slice from a DataFrame\n",
      "\n",
      "See the caveats in the documentation: http://pandas.pydata.org/pandas-docs/stable/indexing.html#indexing-view-versus-copy\n"
     ]
    }
   ],
   "source": [
    "# On charge les données INSEE\n",
    "\n",
    "chemin_insee = 'insee_sante.csv'\n",
    "insee_init = pd.read_csv(chemin_insee, sep=\";\", encoding = \"ISO-8859-1\")\n",
    "insee_init.columns.astype(str)\n",
    "\n",
    "insee_init['Département'] = insee_init['Département'].astype(str)\n",
    "insee_init['Région 2016'] = insee_init['Région 2016'].astype(str)\n",
    "\n",
    "insee_init['Département'] = first_letters(insee_init['Département'],2)\n",
    "\n",
    "outremer = ['1','2','3','4','6']\n",
    "insee_init['Région 2016'][insee_init['Région 2016'].isin(outremer)] = 1\n",
    "\n",
    "list_région = insee_init['Région 2016'].unique().tolist()\n",
    "\n",
    "insee = insee_init.copy()\n",
    "\n",
    "var_écartées = ['Région', 'Région 2016', 'CODGEO', 'Libellé commune ou ARM']\n",
    "insee = insee.drop(var_écartées,1)\n"
   ]
  },
  {
   "cell_type": "code",
   "execution_count": 12,
   "metadata": {
    "collapsed": false
   },
   "outputs": [],
   "source": [
    "## ON RAJOUTE A LA BSE BRUTE LES LIGNES INSEE\n",
    "\n",
    "g = insee.groupby('Département')\n",
    "\n",
    "expand_insee = expand_insee(g, annuaire, avantages)\n",
    "        \n",
    "expand_insee.columns = avantages.columns.tolist()\n",
    "avantages_total = pd.concat([avantages, expand_insee]).reset_index()\n",
    "\n",
    "\n",
    "# avantages_total est donc constituée de la base Transparence Santé, complétée par les données INSEE"
   ]
  },
  {
   "cell_type": "code",
   "execution_count": 13,
   "metadata": {
    "collapsed": false
   },
   "outputs": [],
   "source": [
    "## ON ANONYMISE (par région)\n",
    "# (1) Données brutes\n",
    "# (2) Données complétées par INSEE\n",
    "\n",
    "nbre_modif_avec_insee = []\n",
    "nbre_modif_sans_insee = []\n",
    "# list_région.remove('94') # région Corse, apparemment rien de tout ça dans la base Transparence Santé\n",
    "\n",
    "result_insee = local_aggregation(avantages_total.copy(), 5, var, method = 'regroup')\n",
    "\n"
   ]
  },
  {
   "cell_type": "code",
   "execution_count": 14,
   "metadata": {
    "collapsed": false
   },
   "outputs": [
    {
     "data": {
      "text/plain": [
       "22553"
      ]
     },
     "execution_count": 14,
     "metadata": {},
     "output_type": "execute_result"
    }
   ],
   "source": [
    "nbre_modif(result_insee, avantages_total, 'oui')"
   ]
  },
  {
   "cell_type": "code",
   "execution_count": 35,
   "metadata": {
    "collapsed": false
   },
   "outputs": [],
   "source": [
    "modalites_modifiees.append(nbre_modif(result_insee, avantages_total, 'oui'))\n",
    "modalites_intactes.append(len(avantages_total[avantages_total['av_ou_conv']=='oui'])-modalites_modifiees[1])"
   ]
  },
  {
   "cell_type": "code",
   "execution_count": 28,
   "metadata": {
    "collapsed": false
   },
   "outputs": [
    {
     "data": {
      "text/plain": [
       "[50000, 50000]"
      ]
     },
     "execution_count": 28,
     "metadata": {},
     "output_type": "execute_result"
    }
   ],
   "source": [
    "modalites_modifiees\n",
    "taille_données\n",
    "taille_données_transparence"
   ]
  },
  {
   "cell_type": "code",
   "execution_count": null,
   "metadata": {
    "collapsed": false
   },
   "outputs": [],
   "source": [
    "result_insee"
   ]
  },
  {
   "cell_type": "code",
   "execution_count": null,
   "metadata": {
    "collapsed": true
   },
   "outputs": [],
   "source": [
    "l = [22553]"
   ]
  },
  {
   "cell_type": "code",
   "execution_count": 49,
   "metadata": {
    "collapsed": false
   },
   "outputs": [
    {
     "data": {
      "image/png": "[encoded data removed]",
      "text/plain": [
       "<matplotlib.figure.Figure at 0x2aed8210a58>"
      ]
     },
     "metadata": {},
     "output_type": "display_data"
    }
   ],
   "source": [
    "# Représentation graphique des différences quantitatives entre les deux méthodes (par région)\n",
    "\n",
    "import numpy as np\n",
    "import matplotlib.pyplot as plt\n",
    " \n",
    "# data to plot\n",
    "n_groups = 2\n",
    "\n",
    " \n",
    "# create plot\n",
    "fig, ax = plt.subplots()\n",
    "#figsize=(15, 6)\n",
    "index = np.arange(n_groups)\n",
    "bar_width = 0.35\n",
    "opacity = 1\n",
    " \n",
    "rects1 = plt.bar(index, modalites_modifiees, bar_width,\n",
    "                 alpha=opacity,\n",
    "                 color='b',\n",
    "                 label='Modalités modifiées')\n",
    " \n",
    "\n",
    "rects2 = plt.bar(index + bar_width, modalites_intactes , bar_width,\n",
    "                 alpha=opacity,\n",
    "                 color='y',\n",
    "                 label='Modalités non modifiées')\n",
    "\n",
    "plt.ylim(0, 40000)\n",
    "ax.axhline(y = modalites_modifiees[0])\n",
    "ax.axhline(y = taille_données_transparence[0])\n",
    "\n",
    "plt.xlabel('Région')\n",
    "plt.ylabel('Modalités modifiées')\n",
    "plt.title('Nombre de modalités')\n",
    "plt.xticks(index + bar_width, 'bla')\n",
    "plt.legend()\n",
    " \n",
    "plt.tight_layout()\n",
    "plt.show()"
   ]
  }
 ],
 "metadata": {
  "celltoolbar": "Raw Cell Format",
  "kernelspec": {
   "display_name": "Python 3",
   "language": "python",
   "name": "python3"
  },
  "language_info": {
   "codemirror_mode": {
    "name": "ipython",
    "version": 3
   },
   "file_extension": ".py",
   "mimetype": "text/x-python",
   "name": "python",
   "nbconvert_exporter": "python",
   "pygments_lexer": "ipython3",
   "version": "3.5.1"
  }
 },
 "nbformat": 4,
 "nbformat_minor": 0
}
